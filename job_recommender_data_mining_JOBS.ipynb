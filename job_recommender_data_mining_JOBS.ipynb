{
 "cells": [
  {
   "cell_type": "code",
   "execution_count": 60,
   "metadata": {},
   "outputs": [],
   "source": [
    "import numpy as np\n",
    "import pandas as pd\n",
    "import sklearn\n",
    "import spacy\n",
    "import nltk\n",
    "from nltk.corpus import stopwords\n",
    "from nltk.stem import PorterStemmer"
   ]
  },
  {
   "cell_type": "markdown",
   "metadata": {},
   "source": [
    "The **Combined_Jobs_Final.csv** file: has the main jobs data(**title, description, company, etc.**)\n",
    "\n",
    "The **Job_Views.csv** file: the file with the jobs seeing for the user.\n",
    "\n",
    "The **Experience.csv**: the file containing the experience from the user.\n",
    "\n",
    "The **Positions_Of_Interest.csv**: contains the interest the user previously has manifested."
   ]
  },
  {
   "cell_type": "code",
   "execution_count": 61,
   "metadata": {},
   "outputs": [
    {
     "data": {
      "text/html": [
       "<div>\n",
       "<style scoped>\n",
       "    .dataframe tbody tr th:only-of-type {\n",
       "        vertical-align: middle;\n",
       "    }\n",
       "\n",
       "    .dataframe tbody tr th {\n",
       "        vertical-align: top;\n",
       "    }\n",
       "\n",
       "    .dataframe thead th {\n",
       "        text-align: right;\n",
       "    }\n",
       "</style>\n",
       "<table border=\"1\" class=\"dataframe\">\n",
       "  <thead>\n",
       "    <tr style=\"text-align: right;\">\n",
       "      <th></th>\n",
       "      <th>Job.ID</th>\n",
       "      <th>Provider</th>\n",
       "      <th>Status</th>\n",
       "      <th>Slug</th>\n",
       "      <th>Title</th>\n",
       "      <th>Position</th>\n",
       "      <th>Company</th>\n",
       "      <th>City</th>\n",
       "      <th>State.Name</th>\n",
       "      <th>State.Code</th>\n",
       "      <th>...</th>\n",
       "      <th>Industry</th>\n",
       "      <th>Job.Description</th>\n",
       "      <th>Requirements</th>\n",
       "      <th>Salary</th>\n",
       "      <th>Listing.Start</th>\n",
       "      <th>Listing.End</th>\n",
       "      <th>Employment.Type</th>\n",
       "      <th>Education.Required</th>\n",
       "      <th>Created.At</th>\n",
       "      <th>Updated.At</th>\n",
       "    </tr>\n",
       "  </thead>\n",
       "  <tbody>\n",
       "    <tr>\n",
       "      <td>0</td>\n",
       "      <td>111</td>\n",
       "      <td>1</td>\n",
       "      <td>open</td>\n",
       "      <td>palo-alto-ca-tacolicious-server</td>\n",
       "      <td>Server @ Tacolicious</td>\n",
       "      <td>Server</td>\n",
       "      <td>Tacolicious</td>\n",
       "      <td>Palo Alto</td>\n",
       "      <td>California</td>\n",
       "      <td>CA</td>\n",
       "      <td>...</td>\n",
       "      <td>Food and Beverages</td>\n",
       "      <td>Tacolicious' first Palo Alto store just opened...</td>\n",
       "      <td>NaN</td>\n",
       "      <td>8.00</td>\n",
       "      <td>NaN</td>\n",
       "      <td>NaN</td>\n",
       "      <td>Part-Time</td>\n",
       "      <td>NaN</td>\n",
       "      <td>2013-03-12 02:08:28 UTC</td>\n",
       "      <td>2014-08-16 15:35:36 UTC</td>\n",
       "    </tr>\n",
       "    <tr>\n",
       "      <td>1</td>\n",
       "      <td>113</td>\n",
       "      <td>1</td>\n",
       "      <td>open</td>\n",
       "      <td>san-francisco-ca-claude-lane-kitchen-staff-chef</td>\n",
       "      <td>Kitchen Staff/Chef @ Claude Lane</td>\n",
       "      <td>Kitchen Staff/Chef</td>\n",
       "      <td>Claude Lane</td>\n",
       "      <td>San Francisco</td>\n",
       "      <td>California</td>\n",
       "      <td>CA</td>\n",
       "      <td>...</td>\n",
       "      <td>Food and Beverages</td>\n",
       "      <td>\\r\\n\\r\\nNew French Brasserie in S.F. Financia...</td>\n",
       "      <td>NaN</td>\n",
       "      <td>0.00</td>\n",
       "      <td>NaN</td>\n",
       "      <td>NaN</td>\n",
       "      <td>Part-Time</td>\n",
       "      <td>NaN</td>\n",
       "      <td>2013-04-12 08:36:36 UTC</td>\n",
       "      <td>2014-08-16 15:35:36 UTC</td>\n",
       "    </tr>\n",
       "    <tr>\n",
       "      <td>2</td>\n",
       "      <td>117</td>\n",
       "      <td>1</td>\n",
       "      <td>open</td>\n",
       "      <td>san-francisco-ca-machka-restaurants-corp-barte...</td>\n",
       "      <td>Bartender @ Machka Restaurants Corp.</td>\n",
       "      <td>Bartender</td>\n",
       "      <td>Machka Restaurants Corp.</td>\n",
       "      <td>San Francisco</td>\n",
       "      <td>California</td>\n",
       "      <td>CA</td>\n",
       "      <td>...</td>\n",
       "      <td>Food and Beverages</td>\n",
       "      <td>We are a popular Mediterranean wine bar and re...</td>\n",
       "      <td>NaN</td>\n",
       "      <td>11.00</td>\n",
       "      <td>NaN</td>\n",
       "      <td>NaN</td>\n",
       "      <td>Part-Time</td>\n",
       "      <td>NaN</td>\n",
       "      <td>2013-07-16 09:34:10 UTC</td>\n",
       "      <td>2014-08-16 15:35:37 UTC</td>\n",
       "    </tr>\n",
       "    <tr>\n",
       "      <td>3</td>\n",
       "      <td>121</td>\n",
       "      <td>1</td>\n",
       "      <td>open</td>\n",
       "      <td>brisbane-ca-teriyaki-house-server</td>\n",
       "      <td>Server @ Teriyaki House</td>\n",
       "      <td>Server</td>\n",
       "      <td>Teriyaki House</td>\n",
       "      <td>Brisbane</td>\n",
       "      <td>California</td>\n",
       "      <td>CA</td>\n",
       "      <td>...</td>\n",
       "      <td>Food and Beverages</td>\n",
       "      <td>● Serve food/drinks to customers in a profess...</td>\n",
       "      <td>NaN</td>\n",
       "      <td>10.55</td>\n",
       "      <td>NaN</td>\n",
       "      <td>NaN</td>\n",
       "      <td>Part-Time</td>\n",
       "      <td>NaN</td>\n",
       "      <td>2013-09-04 15:40:30 UTC</td>\n",
       "      <td>2014-08-16 15:35:38 UTC</td>\n",
       "    </tr>\n",
       "    <tr>\n",
       "      <td>4</td>\n",
       "      <td>127</td>\n",
       "      <td>1</td>\n",
       "      <td>open</td>\n",
       "      <td>los-angeles-ca-rosa-mexicano-sunset-kitchen-st...</td>\n",
       "      <td>Kitchen Staff/Chef @ Rosa Mexicano - Sunset</td>\n",
       "      <td>Kitchen Staff/Chef</td>\n",
       "      <td>Rosa Mexicano - Sunset</td>\n",
       "      <td>Los Angeles</td>\n",
       "      <td>California</td>\n",
       "      <td>CA</td>\n",
       "      <td>...</td>\n",
       "      <td>Food and Beverages</td>\n",
       "      <td>Located at the heart of Hollywood, we are one ...</td>\n",
       "      <td>NaN</td>\n",
       "      <td>10.55</td>\n",
       "      <td>NaN</td>\n",
       "      <td>NaN</td>\n",
       "      <td>Part-Time</td>\n",
       "      <td>NaN</td>\n",
       "      <td>2013-07-17 15:26:18 UTC</td>\n",
       "      <td>2014-08-16 15:35:40 UTC</td>\n",
       "    </tr>\n",
       "  </tbody>\n",
       "</table>\n",
       "<p>5 rows × 23 columns</p>\n",
       "</div>"
      ],
      "text/plain": [
       "   Job.ID  Provider Status                                               Slug  \\\n",
       "0     111         1   open                    palo-alto-ca-tacolicious-server   \n",
       "1     113         1   open    san-francisco-ca-claude-lane-kitchen-staff-chef   \n",
       "2     117         1   open  san-francisco-ca-machka-restaurants-corp-barte...   \n",
       "3     121         1   open                  brisbane-ca-teriyaki-house-server   \n",
       "4     127         1   open  los-angeles-ca-rosa-mexicano-sunset-kitchen-st...   \n",
       "\n",
       "                                         Title            Position  \\\n",
       "0                         Server @ Tacolicious              Server   \n",
       "1             Kitchen Staff/Chef @ Claude Lane  Kitchen Staff/Chef   \n",
       "2         Bartender @ Machka Restaurants Corp.           Bartender   \n",
       "3                      Server @ Teriyaki House              Server   \n",
       "4  Kitchen Staff/Chef @ Rosa Mexicano - Sunset  Kitchen Staff/Chef   \n",
       "\n",
       "                    Company           City  State.Name State.Code  ...  \\\n",
       "0               Tacolicious      Palo Alto  California         CA  ...   \n",
       "1               Claude Lane  San Francisco  California         CA  ...   \n",
       "2  Machka Restaurants Corp.  San Francisco  California         CA  ...   \n",
       "3            Teriyaki House       Brisbane  California         CA  ...   \n",
       "4    Rosa Mexicano - Sunset    Los Angeles  California         CA  ...   \n",
       "\n",
       "             Industry                                    Job.Description  \\\n",
       "0  Food and Beverages  Tacolicious' first Palo Alto store just opened...   \n",
       "1  Food and Beverages   \\r\\n\\r\\nNew French Brasserie in S.F. Financia...   \n",
       "2  Food and Beverages  We are a popular Mediterranean wine bar and re...   \n",
       "3  Food and Beverages   ● Serve food/drinks to customers in a profess...   \n",
       "4  Food and Beverages  Located at the heart of Hollywood, we are one ...   \n",
       "\n",
       "   Requirements Salary Listing.Start  Listing.End  Employment.Type  \\\n",
       "0           NaN   8.00           NaN          NaN        Part-Time   \n",
       "1           NaN   0.00           NaN          NaN        Part-Time   \n",
       "2           NaN  11.00           NaN          NaN        Part-Time   \n",
       "3           NaN  10.55           NaN          NaN        Part-Time   \n",
       "4           NaN  10.55           NaN          NaN        Part-Time   \n",
       "\n",
       "  Education.Required               Created.At               Updated.At  \n",
       "0                NaN  2013-03-12 02:08:28 UTC  2014-08-16 15:35:36 UTC  \n",
       "1                NaN  2013-04-12 08:36:36 UTC  2014-08-16 15:35:36 UTC  \n",
       "2                NaN  2013-07-16 09:34:10 UTC  2014-08-16 15:35:37 UTC  \n",
       "3                NaN  2013-09-04 15:40:30 UTC  2014-08-16 15:35:38 UTC  \n",
       "4                NaN  2013-07-17 15:26:18 UTC  2014-08-16 15:35:40 UTC  \n",
       "\n",
       "[5 rows x 23 columns]"
      ]
     },
     "execution_count": 61,
     "metadata": {},
     "output_type": "execute_result"
    }
   ],
   "source": [
    "jobs = pd.read_csv('Combined_Jobs_Final.csv')\n",
    "jobs.head()"
   ]
  },
  {
   "cell_type": "code",
   "execution_count": 62,
   "metadata": {},
   "outputs": [
    {
     "data": {
      "text/plain": [
       "(84090, 23)"
      ]
     },
     "execution_count": 62,
     "metadata": {},
     "output_type": "execute_result"
    }
   ],
   "source": [
    "jobs.shape"
   ]
  },
  {
   "cell_type": "code",
   "execution_count": 63,
   "metadata": {},
   "outputs": [
    {
     "data": {
      "text/plain": [
       "Job.ID                    0\n",
       "Provider                  0\n",
       "Status                    0\n",
       "Slug                      0\n",
       "Title                     0\n",
       "Position                  0\n",
       "Company                2271\n",
       "City                    135\n",
       "State.Name              171\n",
       "State.Code              171\n",
       "Address               84054\n",
       "Latitude                  0\n",
       "Longitude                 0\n",
       "Industry              83823\n",
       "Job.Description          56\n",
       "Requirements          84090\n",
       "Salary                83861\n",
       "Listing.Start           683\n",
       "Listing.End             167\n",
       "Employment.Type          10\n",
       "Education.Required      267\n",
       "Created.At                0\n",
       "Updated.At                0\n",
       "dtype: int64"
      ]
     },
     "execution_count": 63,
     "metadata": {},
     "output_type": "execute_result"
    }
   ],
   "source": [
    "jobs.isna().sum()"
   ]
  },
  {
   "cell_type": "code",
   "execution_count": 64,
   "metadata": {},
   "outputs": [
    {
     "data": {
      "text/html": [
       "<div>\n",
       "<style scoped>\n",
       "    .dataframe tbody tr th:only-of-type {\n",
       "        vertical-align: middle;\n",
       "    }\n",
       "\n",
       "    .dataframe tbody tr th {\n",
       "        vertical-align: top;\n",
       "    }\n",
       "\n",
       "    .dataframe thead th {\n",
       "        text-align: right;\n",
       "    }\n",
       "</style>\n",
       "<table border=\"1\" class=\"dataframe\">\n",
       "  <thead>\n",
       "    <tr style=\"text-align: right;\">\n",
       "      <th></th>\n",
       "      <th>JobID</th>\n",
       "      <th>Slug</th>\n",
       "      <th>Title</th>\n",
       "      <th>Position</th>\n",
       "      <th>Company</th>\n",
       "      <th>City</th>\n",
       "      <th>EmploymentType</th>\n",
       "      <th>JobDescription</th>\n",
       "    </tr>\n",
       "  </thead>\n",
       "  <tbody>\n",
       "    <tr>\n",
       "      <td>0</td>\n",
       "      <td>111</td>\n",
       "      <td>palo-alto-ca-tacolicious-server</td>\n",
       "      <td>Server @ Tacolicious</td>\n",
       "      <td>Server</td>\n",
       "      <td>Tacolicious</td>\n",
       "      <td>Palo Alto</td>\n",
       "      <td>Part-Time</td>\n",
       "      <td>Tacolicious' first Palo Alto store just opened...</td>\n",
       "    </tr>\n",
       "    <tr>\n",
       "      <td>1</td>\n",
       "      <td>113</td>\n",
       "      <td>san-francisco-ca-claude-lane-kitchen-staff-chef</td>\n",
       "      <td>Kitchen Staff/Chef @ Claude Lane</td>\n",
       "      <td>Kitchen Staff/Chef</td>\n",
       "      <td>Claude Lane</td>\n",
       "      <td>San Francisco</td>\n",
       "      <td>Part-Time</td>\n",
       "      <td>\\r\\n\\r\\nNew French Brasserie in S.F. Financia...</td>\n",
       "    </tr>\n",
       "    <tr>\n",
       "      <td>2</td>\n",
       "      <td>117</td>\n",
       "      <td>san-francisco-ca-machka-restaurants-corp-barte...</td>\n",
       "      <td>Bartender @ Machka Restaurants Corp.</td>\n",
       "      <td>Bartender</td>\n",
       "      <td>Machka Restaurants Corp.</td>\n",
       "      <td>San Francisco</td>\n",
       "      <td>Part-Time</td>\n",
       "      <td>We are a popular Mediterranean wine bar and re...</td>\n",
       "    </tr>\n",
       "    <tr>\n",
       "      <td>3</td>\n",
       "      <td>121</td>\n",
       "      <td>brisbane-ca-teriyaki-house-server</td>\n",
       "      <td>Server @ Teriyaki House</td>\n",
       "      <td>Server</td>\n",
       "      <td>Teriyaki House</td>\n",
       "      <td>Brisbane</td>\n",
       "      <td>Part-Time</td>\n",
       "      <td>● Serve food/drinks to customers in a profess...</td>\n",
       "    </tr>\n",
       "    <tr>\n",
       "      <td>4</td>\n",
       "      <td>127</td>\n",
       "      <td>los-angeles-ca-rosa-mexicano-sunset-kitchen-st...</td>\n",
       "      <td>Kitchen Staff/Chef @ Rosa Mexicano - Sunset</td>\n",
       "      <td>Kitchen Staff/Chef</td>\n",
       "      <td>Rosa Mexicano - Sunset</td>\n",
       "      <td>Los Angeles</td>\n",
       "      <td>Part-Time</td>\n",
       "      <td>Located at the heart of Hollywood, we are one ...</td>\n",
       "    </tr>\n",
       "  </tbody>\n",
       "</table>\n",
       "</div>"
      ],
      "text/plain": [
       "   JobID                                               Slug  \\\n",
       "0    111                    palo-alto-ca-tacolicious-server   \n",
       "1    113    san-francisco-ca-claude-lane-kitchen-staff-chef   \n",
       "2    117  san-francisco-ca-machka-restaurants-corp-barte...   \n",
       "3    121                  brisbane-ca-teriyaki-house-server   \n",
       "4    127  los-angeles-ca-rosa-mexicano-sunset-kitchen-st...   \n",
       "\n",
       "                                         Title            Position  \\\n",
       "0                         Server @ Tacolicious              Server   \n",
       "1             Kitchen Staff/Chef @ Claude Lane  Kitchen Staff/Chef   \n",
       "2         Bartender @ Machka Restaurants Corp.           Bartender   \n",
       "3                      Server @ Teriyaki House              Server   \n",
       "4  Kitchen Staff/Chef @ Rosa Mexicano - Sunset  Kitchen Staff/Chef   \n",
       "\n",
       "                    Company           City EmploymentType  \\\n",
       "0               Tacolicious      Palo Alto      Part-Time   \n",
       "1               Claude Lane  San Francisco      Part-Time   \n",
       "2  Machka Restaurants Corp.  San Francisco      Part-Time   \n",
       "3            Teriyaki House       Brisbane      Part-Time   \n",
       "4    Rosa Mexicano - Sunset    Los Angeles      Part-Time   \n",
       "\n",
       "                                      JobDescription  \n",
       "0  Tacolicious' first Palo Alto store just opened...  \n",
       "1   \\r\\n\\r\\nNew French Brasserie in S.F. Financia...  \n",
       "2  We are a popular Mediterranean wine bar and re...  \n",
       "3   ● Serve food/drinks to customers in a profess...  \n",
       "4  Located at the heart of Hollywood, we are one ...  "
      ]
     },
     "execution_count": 64,
     "metadata": {},
     "output_type": "execute_result"
    }
   ],
   "source": [
    "# Dropping all the unnecessary columns and renaming them to easier and more readable names\n",
    "jobs = pd.DataFrame(jobs, columns=['Job.ID', 'Slug', 'Title', 'Position', 'Company', 'City', 'Employment.Type', 'Job.Description'])\n",
    "jobs.columns = ['JobID', 'Slug', 'Title', 'Position', 'Company','City', 'EmploymentType','JobDescription']\n",
    "jobs.head()"
   ]
  },
  {
   "cell_type": "code",
   "execution_count": 65,
   "metadata": {},
   "outputs": [
    {
     "data": {
      "text/plain": [
       "JobID                0\n",
       "Slug                 0\n",
       "Title                0\n",
       "Position             0\n",
       "Company           2271\n",
       "City               135\n",
       "EmploymentType      10\n",
       "JobDescription      56\n",
       "dtype: int64"
      ]
     },
     "execution_count": 65,
     "metadata": {},
     "output_type": "execute_result"
    }
   ],
   "source": [
    "jobs.isna().sum()"
   ]
  },
  {
   "cell_type": "code",
   "execution_count": 66,
   "metadata": {},
   "outputs": [
    {
     "data": {
      "text/plain": [
       "array(['St. Francis Hospital', 'CHI Payment Systems',\n",
       "       'Genesis Health Systems', 'Driveline Retail', 'Volvo Group',\n",
       "       'Home Instead Senior Care', 'Genesis Health System',\n",
       "       'Academic Year In America', 'Educational Testing Services',\n",
       "       'CBS Healthcare Services and Staffing'], dtype=object)"
      ]
     },
     "execution_count": 66,
     "metadata": {},
     "output_type": "execute_result"
    }
   ],
   "source": [
    "jobs_na = jobs.loc[jobs['City'].isna()]\n",
    "jobs_na['Company'].unique()"
   ]
  },
  {
   "cell_type": "code",
   "execution_count": 67,
   "metadata": {},
   "outputs": [],
   "source": [
    "# Googled the headquarter\n",
    "jobs.loc[jobs.Company == 'St. Francis Hospital', 'City'] = 'New York'\n",
    "jobs.loc[jobs.Company == 'CHI Payment Systems', 'City'] = 'Edmond'\n",
    "jobs.loc[jobs.Company == 'Genesis Health Systems', 'City'] = 'Davenport'\n",
    "jobs.loc[jobs.Company == 'Genesis Health System', 'City'] = 'Davenport'\n",
    "jobs.loc[jobs.Company == 'Driveline Retail', 'City'] = 'Coppell'\n",
    "jobs.loc[jobs.Company == 'Volvo Group', 'City'] = 'Washington'\n",
    "jobs.loc[jobs.Company == 'Home Instead Senior Care', 'City'] = 'Nebraska'\n",
    "jobs.loc[jobs.Company == 'Academic Year In America', 'City'] = 'Stamford'\n",
    "jobs.loc[jobs.Company == 'Educational Testing Services', 'City'] = 'Princeton'\n",
    "jobs.loc[jobs.Company == 'CBS Healthcare Services and Staffing', 'City'] = 'Urbandale'\n",
    "\n",
    "# Mistake in the company name\n",
    "jobs['Company'] = jobs['Company'].replace(['Genesis Health Systems'], 'Genesis Health System')"
   ]
  },
  {
   "cell_type": "code",
   "execution_count": 68,
   "metadata": {},
   "outputs": [
    {
     "data": {
      "text/plain": [
       "JobID                0\n",
       "Slug                 0\n",
       "Title                0\n",
       "Position             0\n",
       "Company           2271\n",
       "City                 0\n",
       "EmploymentType      10\n",
       "JobDescription      56\n",
       "dtype: int64"
      ]
     },
     "execution_count": 68,
     "metadata": {},
     "output_type": "execute_result"
    }
   ],
   "source": [
    "jobs.isnull().sum()"
   ]
  },
  {
   "cell_type": "code",
   "execution_count": 69,
   "metadata": {},
   "outputs": [
    {
     "data": {
      "text/html": [
       "<div>\n",
       "<style scoped>\n",
       "    .dataframe tbody tr th:only-of-type {\n",
       "        vertical-align: middle;\n",
       "    }\n",
       "\n",
       "    .dataframe tbody tr th {\n",
       "        vertical-align: top;\n",
       "    }\n",
       "\n",
       "    .dataframe thead th {\n",
       "        text-align: right;\n",
       "    }\n",
       "</style>\n",
       "<table border=\"1\" class=\"dataframe\">\n",
       "  <thead>\n",
       "    <tr style=\"text-align: right;\">\n",
       "      <th></th>\n",
       "      <th>JobID</th>\n",
       "      <th>Slug</th>\n",
       "      <th>Title</th>\n",
       "      <th>Position</th>\n",
       "      <th>Company</th>\n",
       "      <th>City</th>\n",
       "      <th>EmploymentType</th>\n",
       "      <th>JobDescription</th>\n",
       "    </tr>\n",
       "  </thead>\n",
       "  <tbody>\n",
       "    <tr>\n",
       "      <td>10768</td>\n",
       "      <td>153197</td>\n",
       "      <td>san-francisco-ca-uber-driving-partner</td>\n",
       "      <td>Driving Partner @ Uber</td>\n",
       "      <td>Driving Partner</td>\n",
       "      <td>Uber</td>\n",
       "      <td>San Francisco</td>\n",
       "      <td>NaN</td>\n",
       "      <td>Uber is changing the way the world moves. From...</td>\n",
       "    </tr>\n",
       "    <tr>\n",
       "      <td>10769</td>\n",
       "      <td>153198</td>\n",
       "      <td>los-angeles-ca-uber-driving-partner</td>\n",
       "      <td>Driving Partner @ Uber</td>\n",
       "      <td>Driving Partner</td>\n",
       "      <td>Uber</td>\n",
       "      <td>Los Angeles</td>\n",
       "      <td>NaN</td>\n",
       "      <td>Uber is changing the way the world moves. From...</td>\n",
       "    </tr>\n",
       "    <tr>\n",
       "      <td>10770</td>\n",
       "      <td>153199</td>\n",
       "      <td>chicago-il-uber-driving-partner</td>\n",
       "      <td>Driving Partner @ Uber</td>\n",
       "      <td>Driving Partner</td>\n",
       "      <td>Uber</td>\n",
       "      <td>Chicago</td>\n",
       "      <td>NaN</td>\n",
       "      <td>Uber is changing the way the world moves. From...</td>\n",
       "    </tr>\n",
       "    <tr>\n",
       "      <td>10771</td>\n",
       "      <td>153200</td>\n",
       "      <td>boston-ma-uber-driving-partner</td>\n",
       "      <td>Driving Partner @ Uber</td>\n",
       "      <td>Driving Partner</td>\n",
       "      <td>Uber</td>\n",
       "      <td>Boston</td>\n",
       "      <td>NaN</td>\n",
       "      <td>Uber is changing the way the world moves. From...</td>\n",
       "    </tr>\n",
       "    <tr>\n",
       "      <td>10772</td>\n",
       "      <td>153201</td>\n",
       "      <td>ann-arbor-mi-uber-driving-partner</td>\n",
       "      <td>Driving Partner @ Uber</td>\n",
       "      <td>Driving Partner</td>\n",
       "      <td>Uber</td>\n",
       "      <td>Ann Arbor</td>\n",
       "      <td>NaN</td>\n",
       "      <td>Uber is changing the way the world moves. From...</td>\n",
       "    </tr>\n",
       "    <tr>\n",
       "      <td>10773</td>\n",
       "      <td>153202</td>\n",
       "      <td>oklahoma-ok-uber-driving-partner</td>\n",
       "      <td>Driving Partner @ Uber</td>\n",
       "      <td>Driving Partner</td>\n",
       "      <td>Uber</td>\n",
       "      <td>Oklahoma</td>\n",
       "      <td>NaN</td>\n",
       "      <td>Uber is changing the way the world moves. From...</td>\n",
       "    </tr>\n",
       "    <tr>\n",
       "      <td>10774</td>\n",
       "      <td>153203</td>\n",
       "      <td>omaha-ne-uber-driving-partner</td>\n",
       "      <td>Driving Partner @ Uber</td>\n",
       "      <td>Driving Partner</td>\n",
       "      <td>Uber</td>\n",
       "      <td>Omaha</td>\n",
       "      <td>NaN</td>\n",
       "      <td>Uber is changing the way the world moves. From...</td>\n",
       "    </tr>\n",
       "    <tr>\n",
       "      <td>10775</td>\n",
       "      <td>153204</td>\n",
       "      <td>lincoln-ne-uber-driving-partner</td>\n",
       "      <td>Driving Partner @ Uber</td>\n",
       "      <td>Driving Partner</td>\n",
       "      <td>Uber</td>\n",
       "      <td>Lincoln</td>\n",
       "      <td>NaN</td>\n",
       "      <td>Uber is changing the way the world moves. From...</td>\n",
       "    </tr>\n",
       "    <tr>\n",
       "      <td>10776</td>\n",
       "      <td>153205</td>\n",
       "      <td>minneapolis-mn-uber-driving-partner</td>\n",
       "      <td>Driving Partner @ Uber</td>\n",
       "      <td>Driving Partner</td>\n",
       "      <td>Uber</td>\n",
       "      <td>Minneapolis</td>\n",
       "      <td>NaN</td>\n",
       "      <td>Uber is changing the way the world moves. From...</td>\n",
       "    </tr>\n",
       "    <tr>\n",
       "      <td>10777</td>\n",
       "      <td>153206</td>\n",
       "      <td>st-paul-mn-uber-driving-partner</td>\n",
       "      <td>Driving Partner @ Uber</td>\n",
       "      <td>Driving Partner</td>\n",
       "      <td>Uber</td>\n",
       "      <td>St. Paul</td>\n",
       "      <td>NaN</td>\n",
       "      <td>Uber is changing the way the world moves. From...</td>\n",
       "    </tr>\n",
       "  </tbody>\n",
       "</table>\n",
       "</div>"
      ],
      "text/plain": [
       "        JobID                                   Slug                   Title  \\\n",
       "10768  153197  san-francisco-ca-uber-driving-partner  Driving Partner @ Uber   \n",
       "10769  153198    los-angeles-ca-uber-driving-partner  Driving Partner @ Uber   \n",
       "10770  153199        chicago-il-uber-driving-partner  Driving Partner @ Uber   \n",
       "10771  153200         boston-ma-uber-driving-partner  Driving Partner @ Uber   \n",
       "10772  153201      ann-arbor-mi-uber-driving-partner  Driving Partner @ Uber   \n",
       "10773  153202       oklahoma-ok-uber-driving-partner  Driving Partner @ Uber   \n",
       "10774  153203          omaha-ne-uber-driving-partner  Driving Partner @ Uber   \n",
       "10775  153204        lincoln-ne-uber-driving-partner  Driving Partner @ Uber   \n",
       "10776  153205    minneapolis-mn-uber-driving-partner  Driving Partner @ Uber   \n",
       "10777  153206        st-paul-mn-uber-driving-partner  Driving Partner @ Uber   \n",
       "\n",
       "              Position Company           City EmploymentType  \\\n",
       "10768  Driving Partner    Uber  San Francisco            NaN   \n",
       "10769  Driving Partner    Uber    Los Angeles            NaN   \n",
       "10770  Driving Partner    Uber        Chicago            NaN   \n",
       "10771  Driving Partner    Uber         Boston            NaN   \n",
       "10772  Driving Partner    Uber      Ann Arbor            NaN   \n",
       "10773  Driving Partner    Uber       Oklahoma            NaN   \n",
       "10774  Driving Partner    Uber          Omaha            NaN   \n",
       "10775  Driving Partner    Uber        Lincoln            NaN   \n",
       "10776  Driving Partner    Uber    Minneapolis            NaN   \n",
       "10777  Driving Partner    Uber       St. Paul            NaN   \n",
       "\n",
       "                                          JobDescription  \n",
       "10768  Uber is changing the way the world moves. From...  \n",
       "10769  Uber is changing the way the world moves. From...  \n",
       "10770  Uber is changing the way the world moves. From...  \n",
       "10771  Uber is changing the way the world moves. From...  \n",
       "10772  Uber is changing the way the world moves. From...  \n",
       "10773  Uber is changing the way the world moves. From...  \n",
       "10774  Uber is changing the way the world moves. From...  \n",
       "10775  Uber is changing the way the world moves. From...  \n",
       "10776  Uber is changing the way the world moves. From...  \n",
       "10777  Uber is changing the way the world moves. From...  "
      ]
     },
     "execution_count": 69,
     "metadata": {},
     "output_type": "execute_result"
    }
   ],
   "source": [
    "jobs_na = jobs[(pd.isnull(jobs.EmploymentType))]\n",
    "jobs_na.head(10)"
   ]
  },
  {
   "cell_type": "code",
   "execution_count": 72,
   "metadata": {},
   "outputs": [
    {
     "data": {
      "text/plain": [
       "JobID                0\n",
       "Slug                 0\n",
       "Title                0\n",
       "Position             0\n",
       "Company           2271\n",
       "City                 0\n",
       "EmploymentType       0\n",
       "JobDescription      56\n",
       "dtype: int64"
      ]
     },
     "execution_count": 72,
     "metadata": {},
     "output_type": "execute_result"
    }
   ],
   "source": [
    "jobs.EmploymentType = jobs['EmploymentType'].fillna('Full-Time/Part-Time')\n",
    "jobs.isna().sum()"
   ]
  },
  {
   "cell_type": "code",
   "execution_count": 74,
   "metadata": {},
   "outputs": [],
   "source": [
    "selected_columns = ['JobID', 'Title']\n",
    "jobs.to_csv('jobs_title.csv', columns=selected_columns, index=False)"
   ]
  },
  {
   "cell_type": "markdown",
   "metadata": {},
   "source": [
    "---\n",
    "#### Corpus\n",
    "I create a corpus from some of the columns.\n",
    "['Position',\n",
    " 'Company',\n",
    " 'City',\n",
    " 'EmploymentType',\n",
    " 'JobDescription']"
   ]
  },
  {
   "cell_type": "code",
   "execution_count": 40,
   "metadata": {},
   "outputs": [
    {
     "data": {
      "text/plain": [
       "['JobID',\n",
       " 'Slug',\n",
       " 'Title',\n",
       " 'Position',\n",
       " 'Company',\n",
       " 'City',\n",
       " 'EmploymentType',\n",
       " 'JobDescription']"
      ]
     },
     "execution_count": 40,
     "metadata": {},
     "output_type": "execute_result"
    }
   ],
   "source": [
    "list(jobs)"
   ]
  },
  {
   "cell_type": "code",
   "execution_count": 41,
   "metadata": {},
   "outputs": [
    {
     "data": {
      "text/plain": [
       "0    Server palo-alto-ca-tacolicious-server Tacolic...\n",
       "1    Kitchen Staff/Chef san-francisco-ca-claude-lan...\n",
       "2    Bartender san-francisco-ca-machka-restaurants-...\n",
       "3    Server brisbane-ca-teriyaki-house-server Teriy...\n",
       "4    Kitchen Staff/Chef los-angeles-ca-rosa-mexican...\n",
       "Name: Corpus, dtype: object"
      ]
     },
     "execution_count": 41,
     "metadata": {},
     "output_type": "execute_result"
    }
   ],
   "source": [
    "jobs['Corpus'] = jobs['Position'].map(str)+' '+jobs.Slug+' '+jobs.Company+' '+jobs.City+' '+jobs.EmploymentType+' '+jobs.JobDescription\n",
    "jobs.Corpus.head()"
   ]
  },
  {
   "cell_type": "code",
   "execution_count": 42,
   "metadata": {},
   "outputs": [
    {
     "data": {
      "text/html": [
       "<div>\n",
       "<style scoped>\n",
       "    .dataframe tbody tr th:only-of-type {\n",
       "        vertical-align: middle;\n",
       "    }\n",
       "\n",
       "    .dataframe tbody tr th {\n",
       "        vertical-align: top;\n",
       "    }\n",
       "\n",
       "    .dataframe thead th {\n",
       "        text-align: right;\n",
       "    }\n",
       "</style>\n",
       "<table border=\"1\" class=\"dataframe\">\n",
       "  <thead>\n",
       "    <tr style=\"text-align: right;\">\n",
       "      <th></th>\n",
       "      <th>JobID</th>\n",
       "      <th>Corpus</th>\n",
       "    </tr>\n",
       "  </thead>\n",
       "  <tbody>\n",
       "    <tr>\n",
       "      <td>0</td>\n",
       "      <td>111</td>\n",
       "      <td>Server palo-alto-ca-tacolicious-server Tacolic...</td>\n",
       "    </tr>\n",
       "    <tr>\n",
       "      <td>1</td>\n",
       "      <td>113</td>\n",
       "      <td>Kitchen Staff/Chef san-francisco-ca-claude-lan...</td>\n",
       "    </tr>\n",
       "    <tr>\n",
       "      <td>2</td>\n",
       "      <td>117</td>\n",
       "      <td>Bartender san-francisco-ca-machka-restaurants-...</td>\n",
       "    </tr>\n",
       "    <tr>\n",
       "      <td>3</td>\n",
       "      <td>121</td>\n",
       "      <td>Server brisbane-ca-teriyaki-house-server Teriy...</td>\n",
       "    </tr>\n",
       "    <tr>\n",
       "      <td>4</td>\n",
       "      <td>127</td>\n",
       "      <td>Kitchen Staff/Chef los-angeles-ca-rosa-mexican...</td>\n",
       "    </tr>\n",
       "  </tbody>\n",
       "</table>\n",
       "</div>"
      ],
      "text/plain": [
       "   JobID                                             Corpus\n",
       "0    111  Server palo-alto-ca-tacolicious-server Tacolic...\n",
       "1    113  Kitchen Staff/Chef san-francisco-ca-claude-lan...\n",
       "2    117  Bartender san-francisco-ca-machka-restaurants-...\n",
       "3    121  Server brisbane-ca-teriyaki-house-server Teriy...\n",
       "4    127  Kitchen Staff/Chef los-angeles-ca-rosa-mexican..."
      ]
     },
     "execution_count": 42,
     "metadata": {},
     "output_type": "execute_result"
    }
   ],
   "source": [
    "jobs = jobs.drop(['Title', 'Slug', 'Position', 'Company', 'City', 'EmploymentType', 'JobDescription',], axis=1).fillna(' ')\n",
    "jobs.head()"
   ]
  },
  {
   "cell_type": "code",
   "execution_count": 43,
   "metadata": {},
   "outputs": [
    {
     "name": "stdout",
     "output_type": "stream",
     "text": [
      "<class 'pandas.core.frame.DataFrame'>\n",
      "RangeIndex: 84090 entries, 0 to 84089\n",
      "Data columns (total 2 columns):\n",
      "JobID     84090 non-null int64\n",
      "Corpus    84090 non-null object\n",
      "dtypes: int64(1), object(1)\n",
      "memory usage: 1.3+ MB\n"
     ]
    }
   ],
   "source": [
    "jobs.info()"
   ]
  },
  {
   "cell_type": "code",
   "execution_count": 44,
   "metadata": {},
   "outputs": [
    {
     "data": {
      "text/plain": [
       "JobID     0\n",
       "Corpus    0\n",
       "dtype: int64"
      ]
     },
     "execution_count": 44,
     "metadata": {},
     "output_type": "execute_result"
    }
   ],
   "source": [
    "jobs.isna().sum()"
   ]
  },
  {
   "cell_type": "code",
   "execution_count": 45,
   "metadata": {},
   "outputs": [
    {
     "data": {
      "text/plain": [
       "0    Server palo alto ca tacolicious server Tacolic...\n",
       "1    Kitchen Staff Chef san francisco ca claude lan...\n",
       "2    Bartender san francisco ca machka restaurants ...\n",
       "3    Server brisbane ca teriyaki house server Teriy...\n",
       "4    Kitchen Staff Chef los angeles ca rosa mexican...\n",
       "Name: Corpus, dtype: object"
      ]
     },
     "execution_count": 45,
     "metadata": {},
     "output_type": "execute_result"
    }
   ],
   "source": [
    "jobs.Corpus = jobs.Corpus.str.replace('[^a-zA-Z ]', ' ')\n",
    "jobs.Corpus.head()"
   ]
  },
  {
   "cell_type": "code",
   "execution_count": 46,
   "metadata": {},
   "outputs": [
    {
     "data": {
      "text/plain": [
       "0    server palo alto ca tacolicious server tacolic...\n",
       "1    kitchen staff chef san francisco ca claude lan...\n",
       "2    bartender san francisco ca machka restaurants ...\n",
       "3    server brisbane ca teriyaki house server teriy...\n",
       "4    kitchen staff chef los angeles ca rosa mexican...\n",
       "Name: Corpus, dtype: object"
      ]
     },
     "execution_count": 46,
     "metadata": {},
     "output_type": "execute_result"
    }
   ],
   "source": [
    "jobs.Corpus = jobs.Corpus.str.lower()\n",
    "jobs.Corpus.head()"
   ]
  },
  {
   "cell_type": "code",
   "execution_count": 47,
   "metadata": {},
   "outputs": [],
   "source": [
    "# Tokenizing\n",
    "def tokenizer(row):\n",
    "    '''\n",
    "    Will tokenize the given text\n",
    "    input: dataframe row\n",
    "    returns: a tokenized row\n",
    "    '''\n",
    "    return nltk.word_tokenize(row)"
   ]
  },
  {
   "cell_type": "code",
   "execution_count": 48,
   "metadata": {},
   "outputs": [
    {
     "data": {
      "text/html": [
       "<div>\n",
       "<style scoped>\n",
       "    .dataframe tbody tr th:only-of-type {\n",
       "        vertical-align: middle;\n",
       "    }\n",
       "\n",
       "    .dataframe tbody tr th {\n",
       "        vertical-align: top;\n",
       "    }\n",
       "\n",
       "    .dataframe thead th {\n",
       "        text-align: right;\n",
       "    }\n",
       "</style>\n",
       "<table border=\"1\" class=\"dataframe\">\n",
       "  <thead>\n",
       "    <tr style=\"text-align: right;\">\n",
       "      <th></th>\n",
       "      <th>JobID</th>\n",
       "      <th>Corpus</th>\n",
       "    </tr>\n",
       "  </thead>\n",
       "  <tbody>\n",
       "    <tr>\n",
       "      <td>0</td>\n",
       "      <td>111</td>\n",
       "      <td>[server, palo, alto, ca, tacolicious, server, ...</td>\n",
       "    </tr>\n",
       "    <tr>\n",
       "      <td>1</td>\n",
       "      <td>113</td>\n",
       "      <td>[kitchen, staff, chef, san, francisco, ca, cla...</td>\n",
       "    </tr>\n",
       "    <tr>\n",
       "      <td>2</td>\n",
       "      <td>117</td>\n",
       "      <td>[bartender, san, francisco, ca, machka, restau...</td>\n",
       "    </tr>\n",
       "    <tr>\n",
       "      <td>3</td>\n",
       "      <td>121</td>\n",
       "      <td>[server, brisbane, ca, teriyaki, house, server...</td>\n",
       "    </tr>\n",
       "    <tr>\n",
       "      <td>4</td>\n",
       "      <td>127</td>\n",
       "      <td>[kitchen, staff, chef, los, angeles, ca, rosa,...</td>\n",
       "    </tr>\n",
       "  </tbody>\n",
       "</table>\n",
       "</div>"
      ],
      "text/plain": [
       "   JobID                                             Corpus\n",
       "0    111  [server, palo, alto, ca, tacolicious, server, ...\n",
       "1    113  [kitchen, staff, chef, san, francisco, ca, cla...\n",
       "2    117  [bartender, san, francisco, ca, machka, restau...\n",
       "3    121  [server, brisbane, ca, teriyaki, house, server...\n",
       "4    127  [kitchen, staff, chef, los, angeles, ca, rosa,..."
      ]
     },
     "execution_count": 48,
     "metadata": {},
     "output_type": "execute_result"
    }
   ],
   "source": [
    "jobs.Corpus = jobs['Corpus'].apply(lambda row: tokenizer(row))\n",
    "jobs.head()"
   ]
  },
  {
   "cell_type": "code",
   "execution_count": 49,
   "metadata": {},
   "outputs": [],
   "source": [
    "def drop_stopwords(row, language):\n",
    "    '''\n",
    "    removes all the stop words in the given row\n",
    "    input: row | language => english for now\n",
    "    returns: a list of words without stop words\n",
    "    '''\n",
    "    stop_words = set(stopwords.words(language))\n",
    "    return [word for word in row if word not in stop_words]"
   ]
  },
  {
   "cell_type": "code",
   "execution_count": 50,
   "metadata": {},
   "outputs": [
    {
     "data": {
      "text/html": [
       "<div>\n",
       "<style scoped>\n",
       "    .dataframe tbody tr th:only-of-type {\n",
       "        vertical-align: middle;\n",
       "    }\n",
       "\n",
       "    .dataframe tbody tr th {\n",
       "        vertical-align: top;\n",
       "    }\n",
       "\n",
       "    .dataframe thead th {\n",
       "        text-align: right;\n",
       "    }\n",
       "</style>\n",
       "<table border=\"1\" class=\"dataframe\">\n",
       "  <thead>\n",
       "    <tr style=\"text-align: right;\">\n",
       "      <th></th>\n",
       "      <th>JobID</th>\n",
       "      <th>Corpus</th>\n",
       "    </tr>\n",
       "  </thead>\n",
       "  <tbody>\n",
       "    <tr>\n",
       "      <td>0</td>\n",
       "      <td>111</td>\n",
       "      <td>[server, palo, alto, ca, tacolicious, server, ...</td>\n",
       "    </tr>\n",
       "    <tr>\n",
       "      <td>1</td>\n",
       "      <td>113</td>\n",
       "      <td>[kitchen, staff, chef, san, francisco, ca, cla...</td>\n",
       "    </tr>\n",
       "    <tr>\n",
       "      <td>2</td>\n",
       "      <td>117</td>\n",
       "      <td>[bartender, san, francisco, ca, machka, restau...</td>\n",
       "    </tr>\n",
       "    <tr>\n",
       "      <td>3</td>\n",
       "      <td>121</td>\n",
       "      <td>[server, brisbane, ca, teriyaki, house, server...</td>\n",
       "    </tr>\n",
       "    <tr>\n",
       "      <td>4</td>\n",
       "      <td>127</td>\n",
       "      <td>[kitchen, staff, chef, los, angeles, ca, rosa,...</td>\n",
       "    </tr>\n",
       "  </tbody>\n",
       "</table>\n",
       "</div>"
      ],
      "text/plain": [
       "   JobID                                             Corpus\n",
       "0    111  [server, palo, alto, ca, tacolicious, server, ...\n",
       "1    113  [kitchen, staff, chef, san, francisco, ca, cla...\n",
       "2    117  [bartender, san, francisco, ca, machka, restau...\n",
       "3    121  [server, brisbane, ca, teriyaki, house, server...\n",
       "4    127  [kitchen, staff, chef, los, angeles, ca, rosa,..."
      ]
     },
     "execution_count": 50,
     "metadata": {},
     "output_type": "execute_result"
    }
   ],
   "source": [
    "jobs.Corpus = jobs['Corpus'].apply(lambda row: drop_stopwords(row, 'english'))\n",
    "jobs.head()"
   ]
  },
  {
   "cell_type": "code",
   "execution_count": 51,
   "metadata": {
    "scrolled": true
   },
   "outputs": [],
   "source": [
    "def stemming(row):\n",
    "    '''\n",
    "    returns the root of each word in the given row\n",
    "    input: dataframe row\n",
    "    returns: returns a list of stemmed words\n",
    "    '''\n",
    "    stemmer = PorterStemmer()\n",
    "    return [stemmer.stem(word) for word in row]"
   ]
  },
  {
   "cell_type": "code",
   "execution_count": 52,
   "metadata": {},
   "outputs": [
    {
     "data": {
      "text/html": [
       "<div>\n",
       "<style scoped>\n",
       "    .dataframe tbody tr th:only-of-type {\n",
       "        vertical-align: middle;\n",
       "    }\n",
       "\n",
       "    .dataframe tbody tr th {\n",
       "        vertical-align: top;\n",
       "    }\n",
       "\n",
       "    .dataframe thead th {\n",
       "        text-align: right;\n",
       "    }\n",
       "</style>\n",
       "<table border=\"1\" class=\"dataframe\">\n",
       "  <thead>\n",
       "    <tr style=\"text-align: right;\">\n",
       "      <th></th>\n",
       "      <th>JobID</th>\n",
       "      <th>Corpus</th>\n",
       "    </tr>\n",
       "  </thead>\n",
       "  <tbody>\n",
       "    <tr>\n",
       "      <td>0</td>\n",
       "      <td>111</td>\n",
       "      <td>[server, palo, alto, ca, tacolici, server, tac...</td>\n",
       "    </tr>\n",
       "    <tr>\n",
       "      <td>1</td>\n",
       "      <td>113</td>\n",
       "      <td>[kitchen, staff, chef, san, francisco, ca, cla...</td>\n",
       "    </tr>\n",
       "    <tr>\n",
       "      <td>2</td>\n",
       "      <td>117</td>\n",
       "      <td>[bartend, san, francisco, ca, machka, restaur,...</td>\n",
       "    </tr>\n",
       "    <tr>\n",
       "      <td>3</td>\n",
       "      <td>121</td>\n",
       "      <td>[server, brisban, ca, teriyaki, hous, server, ...</td>\n",
       "    </tr>\n",
       "    <tr>\n",
       "      <td>4</td>\n",
       "      <td>127</td>\n",
       "      <td>[kitchen, staff, chef, lo, angel, ca, rosa, me...</td>\n",
       "    </tr>\n",
       "  </tbody>\n",
       "</table>\n",
       "</div>"
      ],
      "text/plain": [
       "   JobID                                             Corpus\n",
       "0    111  [server, palo, alto, ca, tacolici, server, tac...\n",
       "1    113  [kitchen, staff, chef, san, francisco, ca, cla...\n",
       "2    117  [bartend, san, francisco, ca, machka, restaur,...\n",
       "3    121  [server, brisban, ca, teriyaki, hous, server, ...\n",
       "4    127  [kitchen, staff, chef, lo, angel, ca, rosa, me..."
      ]
     },
     "execution_count": 52,
     "metadata": {},
     "output_type": "execute_result"
    }
   ],
   "source": [
    "jobs.Corpus = jobs['Corpus'].apply(lambda row: stemming(row))\n",
    "jobs.head()"
   ]
  },
  {
   "cell_type": "code",
   "execution_count": 53,
   "metadata": {},
   "outputs": [],
   "source": [
    "def rejoin_words(row):\n",
    "    '''\n",
    "    joins all the words in the list\n",
    "    input: dataframe row\n",
    "    returns: a single string for each row (list)\n",
    "    '''\n",
    "    return (' '.join(row))"
   ]
  },
  {
   "cell_type": "code",
   "execution_count": 54,
   "metadata": {},
   "outputs": [],
   "source": [
    "jobs.Corpus = jobs['Corpus'].apply(lambda row: rejoin_words(row))"
   ]
  },
  {
   "cell_type": "code",
   "execution_count": 57,
   "metadata": {},
   "outputs": [
    {
     "data": {
      "text/html": [
       "<div>\n",
       "<style scoped>\n",
       "    .dataframe tbody tr th:only-of-type {\n",
       "        vertical-align: middle;\n",
       "    }\n",
       "\n",
       "    .dataframe tbody tr th {\n",
       "        vertical-align: top;\n",
       "    }\n",
       "\n",
       "    .dataframe thead th {\n",
       "        text-align: right;\n",
       "    }\n",
       "</style>\n",
       "<table border=\"1\" class=\"dataframe\">\n",
       "  <thead>\n",
       "    <tr style=\"text-align: right;\">\n",
       "      <th></th>\n",
       "      <th>JobID</th>\n",
       "      <th>Corpus</th>\n",
       "    </tr>\n",
       "  </thead>\n",
       "  <tbody>\n",
       "    <tr>\n",
       "      <td>66565</td>\n",
       "      <td>3</td>\n",
       "      <td>custom servic cincinnati oh bayer healthcar cu...</td>\n",
       "    </tr>\n",
       "    <tr>\n",
       "      <td>50456</td>\n",
       "      <td>28</td>\n",
       "      <td>kitchen staff chef san francisco ca pacif catc...</td>\n",
       "    </tr>\n",
       "    <tr>\n",
       "      <td>66566</td>\n",
       "      <td>30</td>\n",
       "      <td>bartend olney md dave american bistro bartend ...</td>\n",
       "    </tr>\n",
       "    <tr>\n",
       "      <td>83985</td>\n",
       "      <td>33</td>\n",
       "      <td>server oakland ca server oakland part time loc...</td>\n",
       "    </tr>\n",
       "    <tr>\n",
       "      <td>83992</td>\n",
       "      <td>35</td>\n",
       "      <td>kitchen staff san francisco ca skool kitchen s...</td>\n",
       "    </tr>\n",
       "  </tbody>\n",
       "</table>\n",
       "</div>"
      ],
      "text/plain": [
       "       JobID                                             Corpus\n",
       "66565      3  custom servic cincinnati oh bayer healthcar cu...\n",
       "50456     28  kitchen staff chef san francisco ca pacif catc...\n",
       "66566     30  bartend olney md dave american bistro bartend ...\n",
       "83985     33  server oakland ca server oakland part time loc...\n",
       "83992     35  kitchen staff san francisco ca skool kitchen s..."
      ]
     },
     "execution_count": 57,
     "metadata": {},
     "output_type": "execute_result"
    }
   ],
   "source": [
    "jobs = jobs.sort_values(by='JobID')\n",
    "jobs.head()"
   ]
  },
  {
   "cell_type": "code",
   "execution_count": 56,
   "metadata": {},
   "outputs": [],
   "source": [
    "jobs.to_csv('jobs_df.csv', index=False)"
   ]
  }
 ],
 "metadata": {
  "kernelspec": {
   "display_name": "Python 3",
   "language": "python",
   "name": "python3"
  },
  "language_info": {
   "codemirror_mode": {
    "name": "ipython",
    "version": 3
   },
   "file_extension": ".py",
   "mimetype": "text/x-python",
   "name": "python",
   "nbconvert_exporter": "python",
   "pygments_lexer": "ipython3",
   "version": "3.7.4"
  }
 },
 "nbformat": 4,
 "nbformat_minor": 2
}
