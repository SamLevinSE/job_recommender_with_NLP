{
 "cells": [
  {
   "cell_type": "code",
   "execution_count": 1,
   "metadata": {},
   "outputs": [],
   "source": [
    "import numpy as np\n",
    "import pandas as pd\n",
    "import sklearn\n",
    "import nltk\n",
    "from nltk.corpus import stopwords\n",
    "from nltk.stem import WordNetLemmatizer\n",
    "import string"
   ]
  },
  {
   "cell_type": "markdown",
   "metadata": {},
   "source": [
    "The **Combined_Jobs_Final.csv** file: has the main jobs data(**title, description, company, etc.**)\n",
    "\n",
    "The **Job_Views.csv** file: the file with the jobs seeing for the user.\n",
    "\n",
    "The **Experience.csv**: the file containing the experience from the user.\n",
    "\n",
    "The **Positions_Of_Interest.csv**: contains the interest the user previously has manifested."
   ]
  },
  {
   "cell_type": "code",
   "execution_count": 22,
   "metadata": {},
   "outputs": [],
   "source": [
    "def drop_stopwords(row, language):\n",
    "    '''\n",
    "    removes all the stop words in the given row\n",
    "    input: row | language => english for now\n",
    "    returns: a list of words without stop words\n",
    "    '''\n",
    "    stop_words = set(stopwords.words(language))\n",
    "    return [word for word in row if word not in stop_words and word not in list(string.punctuation)]\n",
    "\n",
    "def lemmitize(row):\n",
    "    '''\n",
    "    returns the root of each word in the given row\n",
    "    input: dataframe row\n",
    "    returns: returns a list of lemmatized words\n",
    "    '''\n",
    "    _lemmitize = WordNetLemmatizer()\n",
    "    return [_lemmitize.lemmatize(word, pos='v') for word in row]\n",
    "\n",
    "def _data_cleaning(row):\n",
    "    '''\n",
    "    returns a clean/lemmitize string\n",
    "    input: dataframe row\n",
    "    returns: returns a string\n",
    "    '''\n",
    "    row = row.lower().replace('[^a-z \\n\\.]', ' ')\n",
    "    row = nltk.word_tokenize(row)\n",
    "    row = drop_stopwords(row, 'english')\n",
    "    row = lemmitize(row)\n",
    "    return ' '.join(row)"
   ]
  },
  {
   "cell_type": "code",
   "execution_count": 23,
   "metadata": {},
   "outputs": [
    {
     "data": {
      "text/html": [
       "<div>\n",
       "<style scoped>\n",
       "    .dataframe tbody tr th:only-of-type {\n",
       "        vertical-align: middle;\n",
       "    }\n",
       "\n",
       "    .dataframe tbody tr th {\n",
       "        vertical-align: top;\n",
       "    }\n",
       "\n",
       "    .dataframe thead th {\n",
       "        text-align: right;\n",
       "    }\n",
       "</style>\n",
       "<table border=\"1\" class=\"dataframe\">\n",
       "  <thead>\n",
       "    <tr style=\"text-align: right;\">\n",
       "      <th></th>\n",
       "      <th>Job.ID</th>\n",
       "      <th>Provider</th>\n",
       "      <th>Status</th>\n",
       "      <th>Slug</th>\n",
       "      <th>Title</th>\n",
       "      <th>Position</th>\n",
       "      <th>Company</th>\n",
       "      <th>City</th>\n",
       "      <th>State.Name</th>\n",
       "      <th>State.Code</th>\n",
       "      <th>...</th>\n",
       "      <th>Industry</th>\n",
       "      <th>Job.Description</th>\n",
       "      <th>Requirements</th>\n",
       "      <th>Salary</th>\n",
       "      <th>Listing.Start</th>\n",
       "      <th>Listing.End</th>\n",
       "      <th>Employment.Type</th>\n",
       "      <th>Education.Required</th>\n",
       "      <th>Created.At</th>\n",
       "      <th>Updated.At</th>\n",
       "    </tr>\n",
       "  </thead>\n",
       "  <tbody>\n",
       "    <tr>\n",
       "      <td>0</td>\n",
       "      <td>111</td>\n",
       "      <td>1</td>\n",
       "      <td>open</td>\n",
       "      <td>palo-alto-ca-tacolicious-server</td>\n",
       "      <td>Server @ Tacolicious</td>\n",
       "      <td>Server</td>\n",
       "      <td>Tacolicious</td>\n",
       "      <td>Palo Alto</td>\n",
       "      <td>California</td>\n",
       "      <td>CA</td>\n",
       "      <td>...</td>\n",
       "      <td>Food and Beverages</td>\n",
       "      <td>Tacolicious' first Palo Alto store just opened...</td>\n",
       "      <td>NaN</td>\n",
       "      <td>8.00</td>\n",
       "      <td>NaN</td>\n",
       "      <td>NaN</td>\n",
       "      <td>Part-Time</td>\n",
       "      <td>NaN</td>\n",
       "      <td>2013-03-12 02:08:28 UTC</td>\n",
       "      <td>2014-08-16 15:35:36 UTC</td>\n",
       "    </tr>\n",
       "    <tr>\n",
       "      <td>1</td>\n",
       "      <td>113</td>\n",
       "      <td>1</td>\n",
       "      <td>open</td>\n",
       "      <td>san-francisco-ca-claude-lane-kitchen-staff-chef</td>\n",
       "      <td>Kitchen Staff/Chef @ Claude Lane</td>\n",
       "      <td>Kitchen Staff/Chef</td>\n",
       "      <td>Claude Lane</td>\n",
       "      <td>San Francisco</td>\n",
       "      <td>California</td>\n",
       "      <td>CA</td>\n",
       "      <td>...</td>\n",
       "      <td>Food and Beverages</td>\n",
       "      <td>\\r\\n\\r\\nNew French Brasserie in S.F. Financia...</td>\n",
       "      <td>NaN</td>\n",
       "      <td>0.00</td>\n",
       "      <td>NaN</td>\n",
       "      <td>NaN</td>\n",
       "      <td>Part-Time</td>\n",
       "      <td>NaN</td>\n",
       "      <td>2013-04-12 08:36:36 UTC</td>\n",
       "      <td>2014-08-16 15:35:36 UTC</td>\n",
       "    </tr>\n",
       "    <tr>\n",
       "      <td>2</td>\n",
       "      <td>117</td>\n",
       "      <td>1</td>\n",
       "      <td>open</td>\n",
       "      <td>san-francisco-ca-machka-restaurants-corp-barte...</td>\n",
       "      <td>Bartender @ Machka Restaurants Corp.</td>\n",
       "      <td>Bartender</td>\n",
       "      <td>Machka Restaurants Corp.</td>\n",
       "      <td>San Francisco</td>\n",
       "      <td>California</td>\n",
       "      <td>CA</td>\n",
       "      <td>...</td>\n",
       "      <td>Food and Beverages</td>\n",
       "      <td>We are a popular Mediterranean wine bar and re...</td>\n",
       "      <td>NaN</td>\n",
       "      <td>11.00</td>\n",
       "      <td>NaN</td>\n",
       "      <td>NaN</td>\n",
       "      <td>Part-Time</td>\n",
       "      <td>NaN</td>\n",
       "      <td>2013-07-16 09:34:10 UTC</td>\n",
       "      <td>2014-08-16 15:35:37 UTC</td>\n",
       "    </tr>\n",
       "    <tr>\n",
       "      <td>3</td>\n",
       "      <td>121</td>\n",
       "      <td>1</td>\n",
       "      <td>open</td>\n",
       "      <td>brisbane-ca-teriyaki-house-server</td>\n",
       "      <td>Server @ Teriyaki House</td>\n",
       "      <td>Server</td>\n",
       "      <td>Teriyaki House</td>\n",
       "      <td>Brisbane</td>\n",
       "      <td>California</td>\n",
       "      <td>CA</td>\n",
       "      <td>...</td>\n",
       "      <td>Food and Beverages</td>\n",
       "      <td>● Serve food/drinks to customers in a profess...</td>\n",
       "      <td>NaN</td>\n",
       "      <td>10.55</td>\n",
       "      <td>NaN</td>\n",
       "      <td>NaN</td>\n",
       "      <td>Part-Time</td>\n",
       "      <td>NaN</td>\n",
       "      <td>2013-09-04 15:40:30 UTC</td>\n",
       "      <td>2014-08-16 15:35:38 UTC</td>\n",
       "    </tr>\n",
       "    <tr>\n",
       "      <td>4</td>\n",
       "      <td>127</td>\n",
       "      <td>1</td>\n",
       "      <td>open</td>\n",
       "      <td>los-angeles-ca-rosa-mexicano-sunset-kitchen-st...</td>\n",
       "      <td>Kitchen Staff/Chef @ Rosa Mexicano - Sunset</td>\n",
       "      <td>Kitchen Staff/Chef</td>\n",
       "      <td>Rosa Mexicano - Sunset</td>\n",
       "      <td>Los Angeles</td>\n",
       "      <td>California</td>\n",
       "      <td>CA</td>\n",
       "      <td>...</td>\n",
       "      <td>Food and Beverages</td>\n",
       "      <td>Located at the heart of Hollywood, we are one ...</td>\n",
       "      <td>NaN</td>\n",
       "      <td>10.55</td>\n",
       "      <td>NaN</td>\n",
       "      <td>NaN</td>\n",
       "      <td>Part-Time</td>\n",
       "      <td>NaN</td>\n",
       "      <td>2013-07-17 15:26:18 UTC</td>\n",
       "      <td>2014-08-16 15:35:40 UTC</td>\n",
       "    </tr>\n",
       "  </tbody>\n",
       "</table>\n",
       "<p>5 rows × 23 columns</p>\n",
       "</div>"
      ],
      "text/plain": [
       "   Job.ID  Provider Status                                               Slug  \\\n",
       "0     111         1   open                    palo-alto-ca-tacolicious-server   \n",
       "1     113         1   open    san-francisco-ca-claude-lane-kitchen-staff-chef   \n",
       "2     117         1   open  san-francisco-ca-machka-restaurants-corp-barte...   \n",
       "3     121         1   open                  brisbane-ca-teriyaki-house-server   \n",
       "4     127         1   open  los-angeles-ca-rosa-mexicano-sunset-kitchen-st...   \n",
       "\n",
       "                                         Title            Position  \\\n",
       "0                         Server @ Tacolicious              Server   \n",
       "1             Kitchen Staff/Chef @ Claude Lane  Kitchen Staff/Chef   \n",
       "2         Bartender @ Machka Restaurants Corp.           Bartender   \n",
       "3                      Server @ Teriyaki House              Server   \n",
       "4  Kitchen Staff/Chef @ Rosa Mexicano - Sunset  Kitchen Staff/Chef   \n",
       "\n",
       "                    Company           City  State.Name State.Code  ...  \\\n",
       "0               Tacolicious      Palo Alto  California         CA  ...   \n",
       "1               Claude Lane  San Francisco  California         CA  ...   \n",
       "2  Machka Restaurants Corp.  San Francisco  California         CA  ...   \n",
       "3            Teriyaki House       Brisbane  California         CA  ...   \n",
       "4    Rosa Mexicano - Sunset    Los Angeles  California         CA  ...   \n",
       "\n",
       "             Industry                                    Job.Description  \\\n",
       "0  Food and Beverages  Tacolicious' first Palo Alto store just opened...   \n",
       "1  Food and Beverages   \\r\\n\\r\\nNew French Brasserie in S.F. Financia...   \n",
       "2  Food and Beverages  We are a popular Mediterranean wine bar and re...   \n",
       "3  Food and Beverages   ● Serve food/drinks to customers in a profess...   \n",
       "4  Food and Beverages  Located at the heart of Hollywood, we are one ...   \n",
       "\n",
       "   Requirements Salary Listing.Start  Listing.End  Employment.Type  \\\n",
       "0           NaN   8.00           NaN          NaN        Part-Time   \n",
       "1           NaN   0.00           NaN          NaN        Part-Time   \n",
       "2           NaN  11.00           NaN          NaN        Part-Time   \n",
       "3           NaN  10.55           NaN          NaN        Part-Time   \n",
       "4           NaN  10.55           NaN          NaN        Part-Time   \n",
       "\n",
       "  Education.Required               Created.At               Updated.At  \n",
       "0                NaN  2013-03-12 02:08:28 UTC  2014-08-16 15:35:36 UTC  \n",
       "1                NaN  2013-04-12 08:36:36 UTC  2014-08-16 15:35:36 UTC  \n",
       "2                NaN  2013-07-16 09:34:10 UTC  2014-08-16 15:35:37 UTC  \n",
       "3                NaN  2013-09-04 15:40:30 UTC  2014-08-16 15:35:38 UTC  \n",
       "4                NaN  2013-07-17 15:26:18 UTC  2014-08-16 15:35:40 UTC  \n",
       "\n",
       "[5 rows x 23 columns]"
      ]
     },
     "execution_count": 23,
     "metadata": {},
     "output_type": "execute_result"
    }
   ],
   "source": [
    "jobs = pd.read_csv('Combined_Jobs_Final.csv')\n",
    "jobs.head()"
   ]
  },
  {
   "cell_type": "code",
   "execution_count": 4,
   "metadata": {},
   "outputs": [
    {
     "data": {
      "text/plain": [
       "(84090, 23)"
      ]
     },
     "execution_count": 4,
     "metadata": {},
     "output_type": "execute_result"
    }
   ],
   "source": [
    "jobs.shape"
   ]
  },
  {
   "cell_type": "code",
   "execution_count": 5,
   "metadata": {},
   "outputs": [
    {
     "data": {
      "text/plain": [
       "Job.ID                    0\n",
       "Provider                  0\n",
       "Status                    0\n",
       "Slug                      0\n",
       "Title                     0\n",
       "Position                  0\n",
       "Company                2271\n",
       "City                    135\n",
       "State.Name              171\n",
       "State.Code              171\n",
       "Address               84054\n",
       "Latitude                  0\n",
       "Longitude                 0\n",
       "Industry              83823\n",
       "Job.Description          56\n",
       "Requirements          84090\n",
       "Salary                83861\n",
       "Listing.Start           683\n",
       "Listing.End             167\n",
       "Employment.Type          10\n",
       "Education.Required      267\n",
       "Created.At                0\n",
       "Updated.At                0\n",
       "dtype: int64"
      ]
     },
     "execution_count": 5,
     "metadata": {},
     "output_type": "execute_result"
    }
   ],
   "source": [
    "jobs.isna().sum()"
   ]
  },
  {
   "cell_type": "code",
   "execution_count": 24,
   "metadata": {},
   "outputs": [
    {
     "data": {
      "text/html": [
       "<div>\n",
       "<style scoped>\n",
       "    .dataframe tbody tr th:only-of-type {\n",
       "        vertical-align: middle;\n",
       "    }\n",
       "\n",
       "    .dataframe tbody tr th {\n",
       "        vertical-align: top;\n",
       "    }\n",
       "\n",
       "    .dataframe thead th {\n",
       "        text-align: right;\n",
       "    }\n",
       "</style>\n",
       "<table border=\"1\" class=\"dataframe\">\n",
       "  <thead>\n",
       "    <tr style=\"text-align: right;\">\n",
       "      <th></th>\n",
       "      <th>JobID</th>\n",
       "      <th>Title</th>\n",
       "      <th>Position</th>\n",
       "      <th>Company</th>\n",
       "      <th>City</th>\n",
       "      <th>EmploymentType</th>\n",
       "      <th>JobDescription</th>\n",
       "    </tr>\n",
       "  </thead>\n",
       "  <tbody>\n",
       "    <tr>\n",
       "      <td>0</td>\n",
       "      <td>111</td>\n",
       "      <td>Server @ Tacolicious</td>\n",
       "      <td>Server</td>\n",
       "      <td>Tacolicious</td>\n",
       "      <td>Palo Alto</td>\n",
       "      <td>Part-Time</td>\n",
       "      <td>Tacolicious' first Palo Alto store just opened...</td>\n",
       "    </tr>\n",
       "    <tr>\n",
       "      <td>1</td>\n",
       "      <td>113</td>\n",
       "      <td>Kitchen Staff/Chef @ Claude Lane</td>\n",
       "      <td>Kitchen Staff/Chef</td>\n",
       "      <td>Claude Lane</td>\n",
       "      <td>San Francisco</td>\n",
       "      <td>Part-Time</td>\n",
       "      <td>\\r\\n\\r\\nNew French Brasserie in S.F. Financia...</td>\n",
       "    </tr>\n",
       "    <tr>\n",
       "      <td>2</td>\n",
       "      <td>117</td>\n",
       "      <td>Bartender @ Machka Restaurants Corp.</td>\n",
       "      <td>Bartender</td>\n",
       "      <td>Machka Restaurants Corp.</td>\n",
       "      <td>San Francisco</td>\n",
       "      <td>Part-Time</td>\n",
       "      <td>We are a popular Mediterranean wine bar and re...</td>\n",
       "    </tr>\n",
       "    <tr>\n",
       "      <td>3</td>\n",
       "      <td>121</td>\n",
       "      <td>Server @ Teriyaki House</td>\n",
       "      <td>Server</td>\n",
       "      <td>Teriyaki House</td>\n",
       "      <td>Brisbane</td>\n",
       "      <td>Part-Time</td>\n",
       "      <td>● Serve food/drinks to customers in a profess...</td>\n",
       "    </tr>\n",
       "    <tr>\n",
       "      <td>4</td>\n",
       "      <td>127</td>\n",
       "      <td>Kitchen Staff/Chef @ Rosa Mexicano - Sunset</td>\n",
       "      <td>Kitchen Staff/Chef</td>\n",
       "      <td>Rosa Mexicano - Sunset</td>\n",
       "      <td>Los Angeles</td>\n",
       "      <td>Part-Time</td>\n",
       "      <td>Located at the heart of Hollywood, we are one ...</td>\n",
       "    </tr>\n",
       "  </tbody>\n",
       "</table>\n",
       "</div>"
      ],
      "text/plain": [
       "   JobID                                        Title            Position  \\\n",
       "0    111                         Server @ Tacolicious              Server   \n",
       "1    113             Kitchen Staff/Chef @ Claude Lane  Kitchen Staff/Chef   \n",
       "2    117         Bartender @ Machka Restaurants Corp.           Bartender   \n",
       "3    121                      Server @ Teriyaki House              Server   \n",
       "4    127  Kitchen Staff/Chef @ Rosa Mexicano - Sunset  Kitchen Staff/Chef   \n",
       "\n",
       "                    Company           City EmploymentType  \\\n",
       "0               Tacolicious      Palo Alto      Part-Time   \n",
       "1               Claude Lane  San Francisco      Part-Time   \n",
       "2  Machka Restaurants Corp.  San Francisco      Part-Time   \n",
       "3            Teriyaki House       Brisbane      Part-Time   \n",
       "4    Rosa Mexicano - Sunset    Los Angeles      Part-Time   \n",
       "\n",
       "                                      JobDescription  \n",
       "0  Tacolicious' first Palo Alto store just opened...  \n",
       "1   \\r\\n\\r\\nNew French Brasserie in S.F. Financia...  \n",
       "2  We are a popular Mediterranean wine bar and re...  \n",
       "3   ● Serve food/drinks to customers in a profess...  \n",
       "4  Located at the heart of Hollywood, we are one ...  "
      ]
     },
     "execution_count": 24,
     "metadata": {},
     "output_type": "execute_result"
    }
   ],
   "source": [
    "# Dropping all the unnecessary columns and renaming them to easier and more readable names\n",
    "header = ['Job.ID', 'Title', 'Position', 'Company', 'City', 'Employment.Type', 'Job.Description']\n",
    "jobs = pd.DataFrame(jobs, columns=header)\n",
    "jobs.columns = ['JobID', 'Title', 'Position', 'Company','City', 'EmploymentType','JobDescription']\n",
    "\n",
    "jobs.head()"
   ]
  },
  {
   "cell_type": "code",
   "execution_count": 7,
   "metadata": {},
   "outputs": [
    {
     "data": {
      "text/plain": [
       "JobID                0\n",
       "Slug                 0\n",
       "Title                0\n",
       "Position             0\n",
       "Company           2271\n",
       "City               135\n",
       "EmploymentType      10\n",
       "JobDescription      56\n",
       "dtype: int64"
      ]
     },
     "execution_count": 7,
     "metadata": {},
     "output_type": "execute_result"
    }
   ],
   "source": [
    "jobs.isna().sum()"
   ]
  },
  {
   "cell_type": "code",
   "execution_count": 8,
   "metadata": {},
   "outputs": [
    {
     "data": {
      "text/plain": [
       "array(['St. Francis Hospital', 'CHI Payment Systems',\n",
       "       'Genesis Health Systems', 'Driveline Retail', 'Volvo Group',\n",
       "       'Home Instead Senior Care', 'Genesis Health System',\n",
       "       'Academic Year In America', 'Educational Testing Services',\n",
       "       'CBS Healthcare Services and Staffing'], dtype=object)"
      ]
     },
     "execution_count": 8,
     "metadata": {},
     "output_type": "execute_result"
    }
   ],
   "source": [
    "jobs_na = jobs.loc[jobs['City'].isna()]\n",
    "jobs_na['Company'].unique()"
   ]
  },
  {
   "cell_type": "code",
   "execution_count": 9,
   "metadata": {},
   "outputs": [],
   "source": [
    "# Googled the headquarter\n",
    "jobs.loc[jobs.Company == 'St. Francis Hospital', 'City'] = 'New York'\n",
    "jobs.loc[jobs.Company == 'CHI Payment Systems', 'City'] = 'Edmond'\n",
    "jobs.loc[jobs.Company == 'Genesis Health Systems', 'City'] = 'Davenport'\n",
    "jobs.loc[jobs.Company == 'Genesis Health System', 'City'] = 'Davenport'\n",
    "jobs.loc[jobs.Company == 'Driveline Retail', 'City'] = 'Coppell'\n",
    "jobs.loc[jobs.Company == 'Volvo Group', 'City'] = 'Washington'\n",
    "jobs.loc[jobs.Company == 'Home Instead Senior Care', 'City'] = 'Nebraska'\n",
    "jobs.loc[jobs.Company == 'Academic Year In America', 'City'] = 'Stamford'\n",
    "jobs.loc[jobs.Company == 'Educational Testing Services', 'City'] = 'Princeton'\n",
    "jobs.loc[jobs.Company == 'CBS Healthcare Services and Staffing', 'City'] = 'Urbandale'\n",
    "\n",
    "# Mistake in the company name\n",
    "jobs['Company'] = jobs['Company'].replace(['Genesis Health Systems'], 'Genesis Health System')"
   ]
  },
  {
   "cell_type": "code",
   "execution_count": 10,
   "metadata": {},
   "outputs": [
    {
     "data": {
      "text/plain": [
       "JobID                0\n",
       "Slug                 0\n",
       "Title                0\n",
       "Position             0\n",
       "Company           2271\n",
       "City                 0\n",
       "EmploymentType      10\n",
       "JobDescription      56\n",
       "dtype: int64"
      ]
     },
     "execution_count": 10,
     "metadata": {},
     "output_type": "execute_result"
    }
   ],
   "source": [
    "jobs.isnull().sum()"
   ]
  },
  {
   "cell_type": "code",
   "execution_count": 11,
   "metadata": {},
   "outputs": [
    {
     "data": {
      "text/html": [
       "<div>\n",
       "<style scoped>\n",
       "    .dataframe tbody tr th:only-of-type {\n",
       "        vertical-align: middle;\n",
       "    }\n",
       "\n",
       "    .dataframe tbody tr th {\n",
       "        vertical-align: top;\n",
       "    }\n",
       "\n",
       "    .dataframe thead th {\n",
       "        text-align: right;\n",
       "    }\n",
       "</style>\n",
       "<table border=\"1\" class=\"dataframe\">\n",
       "  <thead>\n",
       "    <tr style=\"text-align: right;\">\n",
       "      <th></th>\n",
       "      <th>JobID</th>\n",
       "      <th>Slug</th>\n",
       "      <th>Title</th>\n",
       "      <th>Position</th>\n",
       "      <th>Company</th>\n",
       "      <th>City</th>\n",
       "      <th>EmploymentType</th>\n",
       "      <th>JobDescription</th>\n",
       "    </tr>\n",
       "  </thead>\n",
       "  <tbody>\n",
       "    <tr>\n",
       "      <td>10768</td>\n",
       "      <td>153197</td>\n",
       "      <td>san-francisco-ca-uber-driving-partner</td>\n",
       "      <td>Driving Partner @ Uber</td>\n",
       "      <td>Driving Partner</td>\n",
       "      <td>Uber</td>\n",
       "      <td>San Francisco</td>\n",
       "      <td>NaN</td>\n",
       "      <td>Uber is changing the way the world moves. From...</td>\n",
       "    </tr>\n",
       "    <tr>\n",
       "      <td>10769</td>\n",
       "      <td>153198</td>\n",
       "      <td>los-angeles-ca-uber-driving-partner</td>\n",
       "      <td>Driving Partner @ Uber</td>\n",
       "      <td>Driving Partner</td>\n",
       "      <td>Uber</td>\n",
       "      <td>Los Angeles</td>\n",
       "      <td>NaN</td>\n",
       "      <td>Uber is changing the way the world moves. From...</td>\n",
       "    </tr>\n",
       "    <tr>\n",
       "      <td>10770</td>\n",
       "      <td>153199</td>\n",
       "      <td>chicago-il-uber-driving-partner</td>\n",
       "      <td>Driving Partner @ Uber</td>\n",
       "      <td>Driving Partner</td>\n",
       "      <td>Uber</td>\n",
       "      <td>Chicago</td>\n",
       "      <td>NaN</td>\n",
       "      <td>Uber is changing the way the world moves. From...</td>\n",
       "    </tr>\n",
       "    <tr>\n",
       "      <td>10771</td>\n",
       "      <td>153200</td>\n",
       "      <td>boston-ma-uber-driving-partner</td>\n",
       "      <td>Driving Partner @ Uber</td>\n",
       "      <td>Driving Partner</td>\n",
       "      <td>Uber</td>\n",
       "      <td>Boston</td>\n",
       "      <td>NaN</td>\n",
       "      <td>Uber is changing the way the world moves. From...</td>\n",
       "    </tr>\n",
       "    <tr>\n",
       "      <td>10772</td>\n",
       "      <td>153201</td>\n",
       "      <td>ann-arbor-mi-uber-driving-partner</td>\n",
       "      <td>Driving Partner @ Uber</td>\n",
       "      <td>Driving Partner</td>\n",
       "      <td>Uber</td>\n",
       "      <td>Ann Arbor</td>\n",
       "      <td>NaN</td>\n",
       "      <td>Uber is changing the way the world moves. From...</td>\n",
       "    </tr>\n",
       "    <tr>\n",
       "      <td>10773</td>\n",
       "      <td>153202</td>\n",
       "      <td>oklahoma-ok-uber-driving-partner</td>\n",
       "      <td>Driving Partner @ Uber</td>\n",
       "      <td>Driving Partner</td>\n",
       "      <td>Uber</td>\n",
       "      <td>Oklahoma</td>\n",
       "      <td>NaN</td>\n",
       "      <td>Uber is changing the way the world moves. From...</td>\n",
       "    </tr>\n",
       "    <tr>\n",
       "      <td>10774</td>\n",
       "      <td>153203</td>\n",
       "      <td>omaha-ne-uber-driving-partner</td>\n",
       "      <td>Driving Partner @ Uber</td>\n",
       "      <td>Driving Partner</td>\n",
       "      <td>Uber</td>\n",
       "      <td>Omaha</td>\n",
       "      <td>NaN</td>\n",
       "      <td>Uber is changing the way the world moves. From...</td>\n",
       "    </tr>\n",
       "    <tr>\n",
       "      <td>10775</td>\n",
       "      <td>153204</td>\n",
       "      <td>lincoln-ne-uber-driving-partner</td>\n",
       "      <td>Driving Partner @ Uber</td>\n",
       "      <td>Driving Partner</td>\n",
       "      <td>Uber</td>\n",
       "      <td>Lincoln</td>\n",
       "      <td>NaN</td>\n",
       "      <td>Uber is changing the way the world moves. From...</td>\n",
       "    </tr>\n",
       "    <tr>\n",
       "      <td>10776</td>\n",
       "      <td>153205</td>\n",
       "      <td>minneapolis-mn-uber-driving-partner</td>\n",
       "      <td>Driving Partner @ Uber</td>\n",
       "      <td>Driving Partner</td>\n",
       "      <td>Uber</td>\n",
       "      <td>Minneapolis</td>\n",
       "      <td>NaN</td>\n",
       "      <td>Uber is changing the way the world moves. From...</td>\n",
       "    </tr>\n",
       "    <tr>\n",
       "      <td>10777</td>\n",
       "      <td>153206</td>\n",
       "      <td>st-paul-mn-uber-driving-partner</td>\n",
       "      <td>Driving Partner @ Uber</td>\n",
       "      <td>Driving Partner</td>\n",
       "      <td>Uber</td>\n",
       "      <td>St. Paul</td>\n",
       "      <td>NaN</td>\n",
       "      <td>Uber is changing the way the world moves. From...</td>\n",
       "    </tr>\n",
       "  </tbody>\n",
       "</table>\n",
       "</div>"
      ],
      "text/plain": [
       "        JobID                                   Slug                   Title  \\\n",
       "10768  153197  san-francisco-ca-uber-driving-partner  Driving Partner @ Uber   \n",
       "10769  153198    los-angeles-ca-uber-driving-partner  Driving Partner @ Uber   \n",
       "10770  153199        chicago-il-uber-driving-partner  Driving Partner @ Uber   \n",
       "10771  153200         boston-ma-uber-driving-partner  Driving Partner @ Uber   \n",
       "10772  153201      ann-arbor-mi-uber-driving-partner  Driving Partner @ Uber   \n",
       "10773  153202       oklahoma-ok-uber-driving-partner  Driving Partner @ Uber   \n",
       "10774  153203          omaha-ne-uber-driving-partner  Driving Partner @ Uber   \n",
       "10775  153204        lincoln-ne-uber-driving-partner  Driving Partner @ Uber   \n",
       "10776  153205    minneapolis-mn-uber-driving-partner  Driving Partner @ Uber   \n",
       "10777  153206        st-paul-mn-uber-driving-partner  Driving Partner @ Uber   \n",
       "\n",
       "              Position Company           City EmploymentType  \\\n",
       "10768  Driving Partner    Uber  San Francisco            NaN   \n",
       "10769  Driving Partner    Uber    Los Angeles            NaN   \n",
       "10770  Driving Partner    Uber        Chicago            NaN   \n",
       "10771  Driving Partner    Uber         Boston            NaN   \n",
       "10772  Driving Partner    Uber      Ann Arbor            NaN   \n",
       "10773  Driving Partner    Uber       Oklahoma            NaN   \n",
       "10774  Driving Partner    Uber          Omaha            NaN   \n",
       "10775  Driving Partner    Uber        Lincoln            NaN   \n",
       "10776  Driving Partner    Uber    Minneapolis            NaN   \n",
       "10777  Driving Partner    Uber       St. Paul            NaN   \n",
       "\n",
       "                                          JobDescription  \n",
       "10768  Uber is changing the way the world moves. From...  \n",
       "10769  Uber is changing the way the world moves. From...  \n",
       "10770  Uber is changing the way the world moves. From...  \n",
       "10771  Uber is changing the way the world moves. From...  \n",
       "10772  Uber is changing the way the world moves. From...  \n",
       "10773  Uber is changing the way the world moves. From...  \n",
       "10774  Uber is changing the way the world moves. From...  \n",
       "10775  Uber is changing the way the world moves. From...  \n",
       "10776  Uber is changing the way the world moves. From...  \n",
       "10777  Uber is changing the way the world moves. From...  "
      ]
     },
     "execution_count": 11,
     "metadata": {},
     "output_type": "execute_result"
    }
   ],
   "source": [
    "jobs_na = jobs[(pd.isnull(jobs.EmploymentType))]\n",
    "jobs_na.head(10)"
   ]
  },
  {
   "cell_type": "code",
   "execution_count": 25,
   "metadata": {},
   "outputs": [
    {
     "data": {
      "text/plain": [
       "JobID                0\n",
       "Title                0\n",
       "Position             0\n",
       "Company           2271\n",
       "City               135\n",
       "EmploymentType       0\n",
       "JobDescription      56\n",
       "dtype: int64"
      ]
     },
     "execution_count": 25,
     "metadata": {},
     "output_type": "execute_result"
    }
   ],
   "source": [
    "jobs.EmploymentType = jobs['EmploymentType'].fillna('Full-Time/Part-Time')\n",
    "jobs.isna().sum()"
   ]
  },
  {
   "cell_type": "code",
   "execution_count": 26,
   "metadata": {},
   "outputs": [],
   "source": [
    "selected_columns = ['JobID', 'Title']\n",
    "jobs.to_csv('jobs_title.csv', columns=selected_columns, index=False)"
   ]
  },
  {
   "cell_type": "markdown",
   "metadata": {},
   "source": [
    "---\n",
    "#### Corpus\n",
    "I create a corpus from some of the columns.\n",
    "['Position',\n",
    " 'Company',\n",
    " 'City',\n",
    " 'EmploymentType',\n",
    " 'JobDescription']"
   ]
  },
  {
   "cell_type": "code",
   "execution_count": 27,
   "metadata": {},
   "outputs": [
    {
     "data": {
      "text/plain": [
       "['JobID',\n",
       " 'Title',\n",
       " 'Position',\n",
       " 'Company',\n",
       " 'City',\n",
       " 'EmploymentType',\n",
       " 'JobDescription']"
      ]
     },
     "execution_count": 27,
     "metadata": {},
     "output_type": "execute_result"
    }
   ],
   "source": [
    "list(jobs)"
   ]
  },
  {
   "cell_type": "code",
   "execution_count": 28,
   "metadata": {},
   "outputs": [
    {
     "data": {
      "text/plain": [
       "0    Server Tacolicious Palo Alto Part-Time Tacolic...\n",
       "1    Kitchen Staff/Chef Claude Lane San Francisco P...\n",
       "2    Bartender Machka Restaurants Corp. San Francis...\n",
       "3    Server Teriyaki House Brisbane Part-Time  ● Se...\n",
       "4    Kitchen Staff/Chef Rosa Mexicano - Sunset Los ...\n",
       "Name: Corpus, dtype: object"
      ]
     },
     "execution_count": 28,
     "metadata": {},
     "output_type": "execute_result"
    }
   ],
   "source": [
    "jobs['Corpus'] = jobs['Position'].map(str)+' '+jobs.Company+' '+jobs.City+' '+jobs.EmploymentType+' '+jobs.JobDescription+' '+jobs.Title\n",
    "jobs.Corpus.head()"
   ]
  },
  {
   "cell_type": "code",
   "execution_count": 30,
   "metadata": {},
   "outputs": [
    {
     "data": {
      "text/html": [
       "<div>\n",
       "<style scoped>\n",
       "    .dataframe tbody tr th:only-of-type {\n",
       "        vertical-align: middle;\n",
       "    }\n",
       "\n",
       "    .dataframe tbody tr th {\n",
       "        vertical-align: top;\n",
       "    }\n",
       "\n",
       "    .dataframe thead th {\n",
       "        text-align: right;\n",
       "    }\n",
       "</style>\n",
       "<table border=\"1\" class=\"dataframe\">\n",
       "  <thead>\n",
       "    <tr style=\"text-align: right;\">\n",
       "      <th></th>\n",
       "      <th>JobID</th>\n",
       "      <th>Corpus</th>\n",
       "    </tr>\n",
       "  </thead>\n",
       "  <tbody>\n",
       "    <tr>\n",
       "      <td>0</td>\n",
       "      <td>111</td>\n",
       "      <td>Server Tacolicious Palo Alto Part-Time Tacolic...</td>\n",
       "    </tr>\n",
       "    <tr>\n",
       "      <td>1</td>\n",
       "      <td>113</td>\n",
       "      <td>Kitchen Staff/Chef Claude Lane San Francisco P...</td>\n",
       "    </tr>\n",
       "    <tr>\n",
       "      <td>2</td>\n",
       "      <td>117</td>\n",
       "      <td>Bartender Machka Restaurants Corp. San Francis...</td>\n",
       "    </tr>\n",
       "    <tr>\n",
       "      <td>3</td>\n",
       "      <td>121</td>\n",
       "      <td>Server Teriyaki House Brisbane Part-Time  ● Se...</td>\n",
       "    </tr>\n",
       "    <tr>\n",
       "      <td>4</td>\n",
       "      <td>127</td>\n",
       "      <td>Kitchen Staff/Chef Rosa Mexicano - Sunset Los ...</td>\n",
       "    </tr>\n",
       "  </tbody>\n",
       "</table>\n",
       "</div>"
      ],
      "text/plain": [
       "   JobID                                             Corpus\n",
       "0    111  Server Tacolicious Palo Alto Part-Time Tacolic...\n",
       "1    113  Kitchen Staff/Chef Claude Lane San Francisco P...\n",
       "2    117  Bartender Machka Restaurants Corp. San Francis...\n",
       "3    121  Server Teriyaki House Brisbane Part-Time  ● Se...\n",
       "4    127  Kitchen Staff/Chef Rosa Mexicano - Sunset Los ..."
      ]
     },
     "execution_count": 30,
     "metadata": {},
     "output_type": "execute_result"
    }
   ],
   "source": [
    "jobs = jobs.drop(['Title', 'Position', 'Company', 'City', 'EmploymentType', 'JobDescription',], axis=1).fillna(' ')\n",
    "jobs.head()"
   ]
  },
  {
   "cell_type": "code",
   "execution_count": 31,
   "metadata": {},
   "outputs": [
    {
     "name": "stdout",
     "output_type": "stream",
     "text": [
      "<class 'pandas.core.frame.DataFrame'>\n",
      "RangeIndex: 84090 entries, 0 to 84089\n",
      "Data columns (total 2 columns):\n",
      "JobID     84090 non-null int64\n",
      "Corpus    84090 non-null object\n",
      "dtypes: int64(1), object(1)\n",
      "memory usage: 1.3+ MB\n"
     ]
    }
   ],
   "source": [
    "jobs.info()"
   ]
  },
  {
   "cell_type": "code",
   "execution_count": 32,
   "metadata": {},
   "outputs": [
    {
     "data": {
      "text/plain": [
       "JobID     0\n",
       "Corpus    0\n",
       "dtype: int64"
      ]
     },
     "execution_count": 32,
     "metadata": {},
     "output_type": "execute_result"
    }
   ],
   "source": [
    "jobs.isna().sum()"
   ]
  },
  {
   "cell_type": "code",
   "execution_count": 33,
   "metadata": {},
   "outputs": [
    {
     "data": {
      "text/plain": [
       "0    server tacolicious palo alto part-time tacolic...\n",
       "1    kitchen staff/chef claude lane san francisco p...\n",
       "2    bartender machka restaurants corp. san francis...\n",
       "3    server teriyaki house brisbane part-time ● ser...\n",
       "4    kitchen staff/chef rosa mexicano sunset los an...\n",
       "Name: Corpus, dtype: object"
      ]
     },
     "execution_count": 33,
     "metadata": {},
     "output_type": "execute_result"
    }
   ],
   "source": [
    "# finally cleaning and preparing the data\n",
    "jobs.Corpus = jobs['Corpus'].map(str).apply(_data_cleaning)\n",
    "jobs.Corpus.head()"
   ]
  },
  {
   "cell_type": "code",
   "execution_count": 34,
   "metadata": {},
   "outputs": [
    {
     "data": {
      "text/html": [
       "<div>\n",
       "<style scoped>\n",
       "    .dataframe tbody tr th:only-of-type {\n",
       "        vertical-align: middle;\n",
       "    }\n",
       "\n",
       "    .dataframe tbody tr th {\n",
       "        vertical-align: top;\n",
       "    }\n",
       "\n",
       "    .dataframe thead th {\n",
       "        text-align: right;\n",
       "    }\n",
       "</style>\n",
       "<table border=\"1\" class=\"dataframe\">\n",
       "  <thead>\n",
       "    <tr style=\"text-align: right;\">\n",
       "      <th></th>\n",
       "      <th>JobID</th>\n",
       "      <th>Corpus</th>\n",
       "    </tr>\n",
       "  </thead>\n",
       "  <tbody>\n",
       "    <tr>\n",
       "      <td>66565</td>\n",
       "      <td>3</td>\n",
       "      <td>customer service bayer healthcare cincinnati p...</td>\n",
       "    </tr>\n",
       "    <tr>\n",
       "      <td>50456</td>\n",
       "      <td>28</td>\n",
       "      <td>kitchen staff/chef pacific catch san francisco...</td>\n",
       "    </tr>\n",
       "    <tr>\n",
       "      <td>66566</td>\n",
       "      <td>30</td>\n",
       "      <td>bartender dave 's american bistro olney part-t...</td>\n",
       "    </tr>\n",
       "    <tr>\n",
       "      <td>83985</td>\n",
       "      <td>33</td>\n",
       "      <td>server oakland part-time locate oaklandâ€™s ja...</td>\n",
       "    </tr>\n",
       "    <tr>\n",
       "      <td>83992</td>\n",
       "      <td>35</td>\n",
       "      <td>kitchen staff skool san francisco part-time fe...</td>\n",
       "    </tr>\n",
       "  </tbody>\n",
       "</table>\n",
       "</div>"
      ],
      "text/plain": [
       "       JobID                                             Corpus\n",
       "66565      3  customer service bayer healthcare cincinnati p...\n",
       "50456     28  kitchen staff/chef pacific catch san francisco...\n",
       "66566     30  bartender dave 's american bistro olney part-t...\n",
       "83985     33  server oakland part-time locate oaklandâ€™s ja...\n",
       "83992     35  kitchen staff skool san francisco part-time fe..."
      ]
     },
     "execution_count": 34,
     "metadata": {},
     "output_type": "execute_result"
    }
   ],
   "source": [
    "jobs = jobs.sort_values(by='JobID')\n",
    "jobs.head()"
   ]
  },
  {
   "cell_type": "code",
   "execution_count": 35,
   "metadata": {},
   "outputs": [],
   "source": [
    "jobs.to_csv('jobs_df.csv', index=False)"
   ]
  },
  {
   "cell_type": "code",
   "execution_count": null,
   "metadata": {},
   "outputs": [],
   "source": []
  }
 ],
 "metadata": {
  "kernelspec": {
   "display_name": "Python 3",
   "language": "python",
   "name": "python3"
  },
  "language_info": {
   "codemirror_mode": {
    "name": "ipython",
    "version": 3
   },
   "file_extension": ".py",
   "mimetype": "text/x-python",
   "name": "python",
   "nbconvert_exporter": "python",
   "pygments_lexer": "ipython3",
   "version": "3.7.4"
  }
 },
 "nbformat": 4,
 "nbformat_minor": 2
}
