{
 "cells": [
  {
   "cell_type": "code",
   "execution_count": 1,
   "metadata": {},
   "outputs": [],
   "source": [
    "import numpy as np\n",
    "import pandas as pd"
   ]
  },
  {
   "cell_type": "markdown",
   "metadata": {},
   "source": [
    "---"
   ]
  },
  {
   "cell_type": "code",
   "execution_count": 2,
   "metadata": {},
   "outputs": [
    {
     "name": "stdout",
     "output_type": "stream",
     "text": [
      "ApplicantID      0\n",
      "Corpus         854\n",
      "dtype: int64\n",
      "<class 'pandas.core.frame.DataFrame'>\n",
      "RangeIndex: 15959 entries, 0 to 15958\n",
      "Data columns (total 2 columns):\n",
      "ApplicantID    15959 non-null int64\n",
      "Corpus         15105 non-null object\n",
      "dtypes: int64(1), object(1)\n",
      "memory usage: 249.5+ KB\n",
      "None\n"
     ]
    },
    {
     "data": {
      "text/html": [
       "<div>\n",
       "<style scoped>\n",
       "    .dataframe tbody tr th:only-of-type {\n",
       "        vertical-align: middle;\n",
       "    }\n",
       "\n",
       "    .dataframe tbody tr th {\n",
       "        vertical-align: top;\n",
       "    }\n",
       "\n",
       "    .dataframe thead th {\n",
       "        text-align: right;\n",
       "    }\n",
       "</style>\n",
       "<table border=\"1\" class=\"dataframe\">\n",
       "  <thead>\n",
       "    <tr style=\"text-align: right;\">\n",
       "      <th></th>\n",
       "      <th>ApplicantID</th>\n",
       "      <th>Corpus</th>\n",
       "    </tr>\n",
       "  </thead>\n",
       "  <tbody>\n",
       "    <tr>\n",
       "      <td>0</td>\n",
       "      <td>2</td>\n",
       "      <td>writer uloop blog volunteer</td>\n",
       "    </tr>\n",
       "    <tr>\n",
       "      <td>1</td>\n",
       "      <td>3</td>\n",
       "      <td>prep cook server market intern</td>\n",
       "    </tr>\n",
       "    <tr>\n",
       "      <td>2</td>\n",
       "      <td>6</td>\n",
       "      <td>project assistant</td>\n",
       "    </tr>\n",
       "    <tr>\n",
       "      <td>3</td>\n",
       "      <td>8</td>\n",
       "      <td>deli clerk server cashier food prep order taker</td>\n",
       "    </tr>\n",
       "    <tr>\n",
       "      <td>4</td>\n",
       "      <td>11</td>\n",
       "      <td>cashier</td>\n",
       "    </tr>\n",
       "  </tbody>\n",
       "</table>\n",
       "</div>"
      ],
      "text/plain": [
       "   ApplicantID                                           Corpus\n",
       "0            2                      writer uloop blog volunteer\n",
       "1            3                   prep cook server market intern\n",
       "2            6                                project assistant\n",
       "3            8  deli clerk server cashier food prep order taker\n",
       "4           11                                          cashier"
      ]
     },
     "execution_count": 2,
     "metadata": {},
     "output_type": "execute_result"
    }
   ],
   "source": [
    "udf = pd.read_csv('user_df.csv')\n",
    "users_set = set(udf.ApplicantID.values)\n",
    "print(udf.isna().sum())\n",
    "print(udf.info())\n",
    "udf.head()"
   ]
  },
  {
   "cell_type": "code",
   "execution_count": 3,
   "metadata": {},
   "outputs": [
    {
     "name": "stdout",
     "output_type": "stream",
     "text": [
      "ApplicantID    0\n",
      "Corpus         0\n",
      "dtype: int64\n",
      "(15105, 2)\n"
     ]
    }
   ],
   "source": [
    "udf = udf.drop(udf[udf.Corpus == ' '].index, axis=0)\n",
    "udf = udf.dropna(axis=0, how='any')\n",
    "print(udf.isna().sum())\n",
    "print(udf.shape)"
   ]
  },
  {
   "cell_type": "code",
   "execution_count": 4,
   "metadata": {},
   "outputs": [
    {
     "name": "stdout",
     "output_type": "stream",
     "text": [
      "JobID     0\n",
      "Corpus    0\n",
      "dtype: int64\n",
      "<class 'pandas.core.frame.DataFrame'>\n",
      "RangeIndex: 84090 entries, 0 to 84089\n",
      "Data columns (total 2 columns):\n",
      "JobID     84090 non-null int64\n",
      "Corpus    84090 non-null object\n",
      "dtypes: int64(1), object(1)\n",
      "memory usage: 1.3+ MB\n",
      "None\n"
     ]
    },
    {
     "data": {
      "text/html": [
       "<div>\n",
       "<style scoped>\n",
       "    .dataframe tbody tr th:only-of-type {\n",
       "        vertical-align: middle;\n",
       "    }\n",
       "\n",
       "    .dataframe tbody tr th {\n",
       "        vertical-align: top;\n",
       "    }\n",
       "\n",
       "    .dataframe thead th {\n",
       "        text-align: right;\n",
       "    }\n",
       "</style>\n",
       "<table border=\"1\" class=\"dataframe\">\n",
       "  <thead>\n",
       "    <tr style=\"text-align: right;\">\n",
       "      <th></th>\n",
       "      <th>JobID</th>\n",
       "      <th>Corpus</th>\n",
       "    </tr>\n",
       "  </thead>\n",
       "  <tbody>\n",
       "    <tr>\n",
       "      <td>0</td>\n",
       "      <td>3</td>\n",
       "      <td>customer service bayer healthcare cincinnati p...</td>\n",
       "    </tr>\n",
       "    <tr>\n",
       "      <td>1</td>\n",
       "      <td>28</td>\n",
       "      <td>kitchen staff/chef pacific catch san francisco...</td>\n",
       "    </tr>\n",
       "    <tr>\n",
       "      <td>2</td>\n",
       "      <td>30</td>\n",
       "      <td>bartender dave 's american bistro olney part-t...</td>\n",
       "    </tr>\n",
       "    <tr>\n",
       "      <td>3</td>\n",
       "      <td>33</td>\n",
       "      <td>server oakland part-time locate oaklandâ€™s ja...</td>\n",
       "    </tr>\n",
       "    <tr>\n",
       "      <td>4</td>\n",
       "      <td>35</td>\n",
       "      <td>kitchen staff skool san francisco part-time fe...</td>\n",
       "    </tr>\n",
       "  </tbody>\n",
       "</table>\n",
       "</div>"
      ],
      "text/plain": [
       "   JobID                                             Corpus\n",
       "0      3  customer service bayer healthcare cincinnati p...\n",
       "1     28  kitchen staff/chef pacific catch san francisco...\n",
       "2     30  bartender dave 's american bistro olney part-t...\n",
       "3     33  server oakland part-time locate oaklandâ€™s ja...\n",
       "4     35  kitchen staff skool san francisco part-time fe..."
      ]
     },
     "execution_count": 4,
     "metadata": {},
     "output_type": "execute_result"
    }
   ],
   "source": [
    "jdf = pd.read_csv('jobs_df.csv')\n",
    "jdf.Corpus = jdf.Corpus.astype('str')\n",
    "print(jdf.isna().sum())\n",
    "print(jdf.info())\n",
    "jdf.head()"
   ]
  },
  {
   "cell_type": "code",
   "execution_count": 5,
   "metadata": {},
   "outputs": [
    {
     "data": {
      "text/html": [
       "<div>\n",
       "<style scoped>\n",
       "    .dataframe tbody tr th:only-of-type {\n",
       "        vertical-align: middle;\n",
       "    }\n",
       "\n",
       "    .dataframe tbody tr th {\n",
       "        vertical-align: top;\n",
       "    }\n",
       "\n",
       "    .dataframe thead th {\n",
       "        text-align: right;\n",
       "    }\n",
       "</style>\n",
       "<table border=\"1\" class=\"dataframe\">\n",
       "  <thead>\n",
       "    <tr style=\"text-align: right;\">\n",
       "      <th></th>\n",
       "      <th>JobID</th>\n",
       "      <th>Title</th>\n",
       "    </tr>\n",
       "  </thead>\n",
       "  <tbody>\n",
       "    <tr>\n",
       "      <td>0</td>\n",
       "      <td>111</td>\n",
       "      <td>Server @ Tacolicious</td>\n",
       "    </tr>\n",
       "    <tr>\n",
       "      <td>1</td>\n",
       "      <td>113</td>\n",
       "      <td>Kitchen Staff/Chef @ Claude Lane</td>\n",
       "    </tr>\n",
       "    <tr>\n",
       "      <td>2</td>\n",
       "      <td>117</td>\n",
       "      <td>Bartender @ Machka Restaurants Corp.</td>\n",
       "    </tr>\n",
       "    <tr>\n",
       "      <td>3</td>\n",
       "      <td>121</td>\n",
       "      <td>Server @ Teriyaki House</td>\n",
       "    </tr>\n",
       "    <tr>\n",
       "      <td>4</td>\n",
       "      <td>127</td>\n",
       "      <td>Kitchen Staff/Chef @ Rosa Mexicano - Sunset</td>\n",
       "    </tr>\n",
       "  </tbody>\n",
       "</table>\n",
       "</div>"
      ],
      "text/plain": [
       "   JobID                                        Title\n",
       "0    111                         Server @ Tacolicious\n",
       "1    113             Kitchen Staff/Chef @ Claude Lane\n",
       "2    117         Bartender @ Machka Restaurants Corp.\n",
       "3    121                      Server @ Teriyaki House\n",
       "4    127  Kitchen Staff/Chef @ Rosa Mexicano - Sunset"
      ]
     },
     "execution_count": 5,
     "metadata": {},
     "output_type": "execute_result"
    }
   ],
   "source": [
    "jobs_title = pd.read_csv('jobs_title.csv')\n",
    "jobs_title.head()"
   ]
  },
  {
   "cell_type": "markdown",
   "metadata": {},
   "source": [
    "---\n",
    "### TF-IDF with Cosine Similarity\n",
    "( Term Frequency - Inverse Document Frequency )"
   ]
  },
  {
   "cell_type": "code",
   "execution_count": 6,
   "metadata": {},
   "outputs": [],
   "source": [
    "from sklearn.metrics.pairwise import cosine_similarity\n",
    "from sklearn.feature_extraction.text import TfidfVectorizer"
   ]
  },
  {
   "cell_type": "code",
   "execution_count": 7,
   "metadata": {},
   "outputs": [],
   "source": [
    "def disply_applicant(user_id, dataframe=udf):\n",
    "    '''\n",
    "    Selects the given users first application\n",
    "    input: user id\n",
    "    returns: selected applicants row\n",
    "    '''\n",
    "    if user_id in users_set:\n",
    "        index = np.where(dataframe.ApplicantID == user_id)[0][0]\n",
    "        return dataframe.iloc[[index]]\n",
    "    return 'User id is not in the DB.'"
   ]
  },
  {
   "cell_type": "code",
   "execution_count": 8,
   "metadata": {},
   "outputs": [
    {
     "data": {
      "text/html": [
       "<div>\n",
       "<style scoped>\n",
       "    .dataframe tbody tr th:only-of-type {\n",
       "        vertical-align: middle;\n",
       "    }\n",
       "\n",
       "    .dataframe tbody tr th {\n",
       "        vertical-align: top;\n",
       "    }\n",
       "\n",
       "    .dataframe thead th {\n",
       "        text-align: right;\n",
       "    }\n",
       "</style>\n",
       "<table border=\"1\" class=\"dataframe\">\n",
       "  <thead>\n",
       "    <tr style=\"text-align: right;\">\n",
       "      <th></th>\n",
       "      <th>ApplicantID</th>\n",
       "      <th>Corpus</th>\n",
       "    </tr>\n",
       "  </thead>\n",
       "  <tbody>\n",
       "    <tr>\n",
       "      <td>186</td>\n",
       "      <td>326</td>\n",
       "      <td>java developer</td>\n",
       "    </tr>\n",
       "  </tbody>\n",
       "</table>\n",
       "</div>"
      ],
      "text/plain": [
       "     ApplicantID          Corpus\n",
       "186          326  java developer"
      ]
     },
     "execution_count": 8,
     "metadata": {},
     "output_type": "execute_result"
    }
   ],
   "source": [
    "selected_user = disply_applicant(326)\n",
    "selected_user"
   ]
  },
  {
   "cell_type": "code",
   "execution_count": 9,
   "metadata": {},
   "outputs": [],
   "source": [
    "def get_recommendation(selected_user, top_recommended, scores, jobs_title=jobs_title):\n",
    "    _result = pd.DataFrame()\n",
    "\n",
    "    for index, recomend in enumerate(top_recommended):\n",
    "        _result.at[index, 'ApplicantID'] = selected_user\n",
    "        _result.at[index, 'JobID'] = jobs_title['JobID'][recomend]\n",
    "        _result.at[index, 'title'] = jobs_title['Title'][recomend]\n",
    "        _result.at[index, 'score'] =  scores[index]\n",
    "    \n",
    "    return _result"
   ]
  },
  {
   "cell_type": "markdown",
   "metadata": {},
   "source": [
    "---"
   ]
  },
  {
   "cell_type": "code",
   "execution_count": 10,
   "metadata": {},
   "outputs": [],
   "source": [
    "vectorizer = TfidfVectorizer()\n",
    "\n",
    "tf_idf_job = vectorizer.fit_transform((jdf['Corpus']))\n",
    "tf_idf_user = vectorizer.transform((selected_user['Corpus']))"
   ]
  },
  {
   "cell_type": "code",
   "execution_count": 11,
   "metadata": {},
   "outputs": [],
   "source": [
    "_cosine = map(lambda x: cosine_similarity(tf_idf_user, x), tf_idf_job)\n",
    "cosine_output = list(_cosine)"
   ]
  },
  {
   "cell_type": "code",
   "execution_count": 12,
   "metadata": {},
   "outputs": [],
   "source": [
    "list_range = range(len(cosine_output))\n",
    "_top = sorted(list_range, key=lambda i: cosine_output[i], reverse=True)[:10]\n",
    "list_scores = [cosine_output[i][0][0] for i in _top]"
   ]
  },
  {
   "cell_type": "markdown",
   "metadata": {},
   "source": [
    "---"
   ]
  },
  {
   "cell_type": "markdown",
   "metadata": {},
   "source": [
    "---"
   ]
  },
  {
   "cell_type": "code",
   "execution_count": 13,
   "metadata": {},
   "outputs": [],
   "source": [
    "def _recommended_jobs(top, user):\n",
    "    '''\n",
    "    Returns all the recommended jobs for the given user.\n",
    "    input: top => nr of top recommended jobs | user => user id\n",
    "    return: a dataframe with two columns (ApplicantID, JobID)\n",
    "    '''\n",
    "    result = pd.DataFrame()\n",
    "\n",
    "    list_range = range(len(cosine_output))\n",
    "    _top = sorted(list_range, key=lambda i: cosine_output[i].any(), reverse=True)[:top]\n",
    "    \n",
    "    for index, item in enumerate(_top):\n",
    "        result.at[index, 'ApplicantID'] = user\n",
    "        result.at[index, 'JobID'] = jdf['JobID'][item]\n",
    "    \n",
    "    return result"
   ]
  },
  {
   "cell_type": "markdown",
   "metadata": {},
   "source": [
    "---"
   ]
  },
  {
   "cell_type": "code",
   "execution_count": 14,
   "metadata": {},
   "outputs": [],
   "source": [
    "def _select_job(recommended_jobs):\n",
    "    '''\n",
    "    Returns the description (Corpus) for the given list.\n",
    "    input: recommended jobs dataframe\n",
    "    return: a dataframe with two columns (JobID, Corpus)\n",
    "    '''\n",
    "    result = pd.DataFrame()\n",
    "    \n",
    "    for i, recomend in enumerate(recommended_jobs['JobID']):\n",
    "        index = np.where(jdf.JobID == recomend)[0][0]\n",
    "        result.at[i, 'JobID'] = recomend\n",
    "        result.at[i, 'Corpus'] = jdf['Corpus'][index]\n",
    "    \n",
    "    return result"
   ]
  },
  {
   "cell_type": "markdown",
   "metadata": {},
   "source": [
    "---"
   ]
  },
  {
   "cell_type": "code",
   "execution_count": 15,
   "metadata": {
    "scrolled": true
   },
   "outputs": [
    {
     "data": {
      "text/html": [
       "<div>\n",
       "<style scoped>\n",
       "    .dataframe tbody tr th:only-of-type {\n",
       "        vertical-align: middle;\n",
       "    }\n",
       "\n",
       "    .dataframe tbody tr th {\n",
       "        vertical-align: top;\n",
       "    }\n",
       "\n",
       "    .dataframe thead th {\n",
       "        text-align: right;\n",
       "    }\n",
       "</style>\n",
       "<table border=\"1\" class=\"dataframe\">\n",
       "  <thead>\n",
       "    <tr style=\"text-align: right;\">\n",
       "      <th></th>\n",
       "      <th>ApplicantID</th>\n",
       "      <th>JobID</th>\n",
       "    </tr>\n",
       "  </thead>\n",
       "  <tbody>\n",
       "    <tr>\n",
       "      <td>0</td>\n",
       "      <td>326.0</td>\n",
       "      <td>134307.0</td>\n",
       "    </tr>\n",
       "    <tr>\n",
       "      <td>1</td>\n",
       "      <td>326.0</td>\n",
       "      <td>140161.0</td>\n",
       "    </tr>\n",
       "    <tr>\n",
       "      <td>2</td>\n",
       "      <td>326.0</td>\n",
       "      <td>141755.0</td>\n",
       "    </tr>\n",
       "    <tr>\n",
       "      <td>3</td>\n",
       "      <td>326.0</td>\n",
       "      <td>141831.0</td>\n",
       "    </tr>\n",
       "    <tr>\n",
       "      <td>4</td>\n",
       "      <td>326.0</td>\n",
       "      <td>142473.0</td>\n",
       "    </tr>\n",
       "    <tr>\n",
       "      <td>5</td>\n",
       "      <td>326.0</td>\n",
       "      <td>144570.0</td>\n",
       "    </tr>\n",
       "    <tr>\n",
       "      <td>6</td>\n",
       "      <td>326.0</td>\n",
       "      <td>146640.0</td>\n",
       "    </tr>\n",
       "    <tr>\n",
       "      <td>7</td>\n",
       "      <td>326.0</td>\n",
       "      <td>146760.0</td>\n",
       "    </tr>\n",
       "    <tr>\n",
       "      <td>8</td>\n",
       "      <td>326.0</td>\n",
       "      <td>147843.0</td>\n",
       "    </tr>\n",
       "    <tr>\n",
       "      <td>9</td>\n",
       "      <td>326.0</td>\n",
       "      <td>148050.0</td>\n",
       "    </tr>\n",
       "  </tbody>\n",
       "</table>\n",
       "</div>"
      ],
      "text/plain": [
       "   ApplicantID     JobID\n",
       "0        326.0  134307.0\n",
       "1        326.0  140161.0\n",
       "2        326.0  141755.0\n",
       "3        326.0  141831.0\n",
       "4        326.0  142473.0\n",
       "5        326.0  144570.0\n",
       "6        326.0  146640.0\n",
       "7        326.0  146760.0\n",
       "8        326.0  147843.0\n",
       "9        326.0  148050.0"
      ]
     },
     "execution_count": 15,
     "metadata": {},
     "output_type": "execute_result"
    }
   ],
   "source": [
    "_recommended = _recommended_jobs(10, 326)\n",
    "_recommended"
   ]
  },
  {
   "cell_type": "code",
   "execution_count": 16,
   "metadata": {},
   "outputs": [
    {
     "data": {
      "text/html": [
       "<div>\n",
       "<style scoped>\n",
       "    .dataframe tbody tr th:only-of-type {\n",
       "        vertical-align: middle;\n",
       "    }\n",
       "\n",
       "    .dataframe tbody tr th {\n",
       "        vertical-align: top;\n",
       "    }\n",
       "\n",
       "    .dataframe thead th {\n",
       "        text-align: right;\n",
       "    }\n",
       "</style>\n",
       "<table border=\"1\" class=\"dataframe\">\n",
       "  <thead>\n",
       "    <tr style=\"text-align: right;\">\n",
       "      <th></th>\n",
       "      <th>JobID</th>\n",
       "      <th>Corpus</th>\n",
       "    </tr>\n",
       "  </thead>\n",
       "  <tbody>\n",
       "    <tr>\n",
       "      <td>0</td>\n",
       "      <td>134307.0</td>\n",
       "      <td>intern network sharepoint web development inte...</td>\n",
       "    </tr>\n",
       "    <tr>\n",
       "      <td>1</td>\n",
       "      <td>140161.0</td>\n",
       "      <td>senior accountant accountemps el paso seasonal...</td>\n",
       "    </tr>\n",
       "    <tr>\n",
       "      <td>2</td>\n",
       "      <td>141755.0</td>\n",
       "      <td>clinical supervisor part-time family center se...</td>\n",
       "    </tr>\n",
       "    <tr>\n",
       "      <td>3</td>\n",
       "      <td>141831.0</td>\n",
       "      <td>lead java/j2ee developer contract hire itech s...</td>\n",
       "    </tr>\n",
       "    <tr>\n",
       "      <td>4</td>\n",
       "      <td>142473.0</td>\n",
       "      <td>job order sr. remedy developer employ-r soluti...</td>\n",
       "    </tr>\n",
       "    <tr>\n",
       "      <td>5</td>\n",
       "      <td>144570.0</td>\n",
       "      <td>vice president construction gpac wichita full-...</td>\n",
       "    </tr>\n",
       "    <tr>\n",
       "      <td>6</td>\n",
       "      <td>146640.0</td>\n",
       "      <td>jr. java developer paladin consult inc saint l...</td>\n",
       "    </tr>\n",
       "    <tr>\n",
       "      <td>7</td>\n",
       "      <td>146760.0</td>\n",
       "      <td>project accountant lead developer west la acco...</td>\n",
       "    </tr>\n",
       "    <tr>\n",
       "      <td>8</td>\n",
       "      <td>147843.0</td>\n",
       "      <td>director sas application developer npd group p...</td>\n",
       "    </tr>\n",
       "    <tr>\n",
       "      <td>9</td>\n",
       "      <td>148050.0</td>\n",
       "      <td>ekg/cardiac technician per diem hca-east flori...</td>\n",
       "    </tr>\n",
       "  </tbody>\n",
       "</table>\n",
       "</div>"
      ],
      "text/plain": [
       "      JobID                                             Corpus\n",
       "0  134307.0  intern network sharepoint web development inte...\n",
       "1  140161.0  senior accountant accountemps el paso seasonal...\n",
       "2  141755.0  clinical supervisor part-time family center se...\n",
       "3  141831.0  lead java/j2ee developer contract hire itech s...\n",
       "4  142473.0  job order sr. remedy developer employ-r soluti...\n",
       "5  144570.0  vice president construction gpac wichita full-...\n",
       "6  146640.0  jr. java developer paladin consult inc saint l...\n",
       "7  146760.0  project accountant lead developer west la acco...\n",
       "8  147843.0  director sas application developer npd group p...\n",
       "9  148050.0  ekg/cardiac technician per diem hca-east flori..."
      ]
     },
     "execution_count": 16,
     "metadata": {},
     "output_type": "execute_result"
    }
   ],
   "source": [
    "_select_job(_recommended)"
   ]
  },
  {
   "cell_type": "markdown",
   "metadata": {},
   "source": [
    "---"
   ]
  },
  {
   "cell_type": "code",
   "execution_count": 17,
   "metadata": {},
   "outputs": [],
   "source": [
    "# we could make it more user friendly by adding some more info about what user applied for and what we recommend...\n",
    "def recommender_output(top, user):\n",
    "    '''\n",
    "    Returns the final output for the recommender system\n",
    "    input: top => nr of top recommended jobs | user => user id\n",
    "    return: a dataframe with three columns (ApplicantID, JobID, Corpus)\n",
    "    '''\n",
    "    __recommended = _recommended_jobs(top, user)\n",
    "    __selected = _select_job(__recommended)\n",
    "    \n",
    "    return __recommended.merge(__selected, on='JobID')"
   ]
  },
  {
   "cell_type": "code",
   "execution_count": 18,
   "metadata": {},
   "outputs": [
    {
     "data": {
      "text/html": [
       "<div>\n",
       "<style scoped>\n",
       "    .dataframe tbody tr th:only-of-type {\n",
       "        vertical-align: middle;\n",
       "    }\n",
       "\n",
       "    .dataframe tbody tr th {\n",
       "        vertical-align: top;\n",
       "    }\n",
       "\n",
       "    .dataframe thead th {\n",
       "        text-align: right;\n",
       "    }\n",
       "</style>\n",
       "<table border=\"1\" class=\"dataframe\">\n",
       "  <thead>\n",
       "    <tr style=\"text-align: right;\">\n",
       "      <th></th>\n",
       "      <th>ApplicantID</th>\n",
       "      <th>JobID</th>\n",
       "      <th>Corpus</th>\n",
       "    </tr>\n",
       "  </thead>\n",
       "  <tbody>\n",
       "    <tr>\n",
       "      <td>0</td>\n",
       "      <td>326.0</td>\n",
       "      <td>134307.0</td>\n",
       "      <td>intern network sharepoint web development inte...</td>\n",
       "    </tr>\n",
       "    <tr>\n",
       "      <td>1</td>\n",
       "      <td>326.0</td>\n",
       "      <td>140161.0</td>\n",
       "      <td>senior accountant accountemps el paso seasonal...</td>\n",
       "    </tr>\n",
       "    <tr>\n",
       "      <td>2</td>\n",
       "      <td>326.0</td>\n",
       "      <td>141755.0</td>\n",
       "      <td>clinical supervisor part-time family center se...</td>\n",
       "    </tr>\n",
       "    <tr>\n",
       "      <td>3</td>\n",
       "      <td>326.0</td>\n",
       "      <td>141831.0</td>\n",
       "      <td>lead java/j2ee developer contract hire itech s...</td>\n",
       "    </tr>\n",
       "    <tr>\n",
       "      <td>4</td>\n",
       "      <td>326.0</td>\n",
       "      <td>142473.0</td>\n",
       "      <td>job order sr. remedy developer employ-r soluti...</td>\n",
       "    </tr>\n",
       "  </tbody>\n",
       "</table>\n",
       "</div>"
      ],
      "text/plain": [
       "   ApplicantID     JobID                                             Corpus\n",
       "0        326.0  134307.0  intern network sharepoint web development inte...\n",
       "1        326.0  140161.0  senior accountant accountemps el paso seasonal...\n",
       "2        326.0  141755.0  clinical supervisor part-time family center se...\n",
       "3        326.0  141831.0  lead java/j2ee developer contract hire itech s...\n",
       "4        326.0  142473.0  job order sr. remedy developer employ-r soluti..."
      ]
     },
     "execution_count": 18,
     "metadata": {},
     "output_type": "execute_result"
    }
   ],
   "source": [
    "recommender_output(5, 326)"
   ]
  },
  {
   "cell_type": "code",
   "execution_count": 19,
   "metadata": {},
   "outputs": [
    {
     "data": {
      "text/html": [
       "<div>\n",
       "<style scoped>\n",
       "    .dataframe tbody tr th:only-of-type {\n",
       "        vertical-align: middle;\n",
       "    }\n",
       "\n",
       "    .dataframe tbody tr th {\n",
       "        vertical-align: top;\n",
       "    }\n",
       "\n",
       "    .dataframe thead th {\n",
       "        text-align: right;\n",
       "    }\n",
       "</style>\n",
       "<table border=\"1\" class=\"dataframe\">\n",
       "  <thead>\n",
       "    <tr style=\"text-align: right;\">\n",
       "      <th></th>\n",
       "      <th>ApplicantID</th>\n",
       "      <th>JobID</th>\n",
       "      <th>title</th>\n",
       "      <th>score</th>\n",
       "    </tr>\n",
       "  </thead>\n",
       "  <tbody>\n",
       "    <tr>\n",
       "      <td>0</td>\n",
       "      <td>326.0</td>\n",
       "      <td>294804.0</td>\n",
       "      <td>ADMINISTRATIVE ASSISTANT @ Cadre</td>\n",
       "      <td>0.737476</td>\n",
       "    </tr>\n",
       "    <tr>\n",
       "      <td>1</td>\n",
       "      <td>326.0</td>\n",
       "      <td>303228.0</td>\n",
       "      <td>Executive Administrative Assistant @ OfficeTeam</td>\n",
       "      <td>0.734409</td>\n",
       "    </tr>\n",
       "    <tr>\n",
       "      <td>2</td>\n",
       "      <td>326.0</td>\n",
       "      <td>270052.0</td>\n",
       "      <td>Caregiver / Home Health Aide / CNA @ Home Inst...</td>\n",
       "      <td>0.712190</td>\n",
       "    </tr>\n",
       "    <tr>\n",
       "      <td>3</td>\n",
       "      <td>326.0</td>\n",
       "      <td>305380.0</td>\n",
       "      <td>Board Certified Behavior Anaylst</td>\n",
       "      <td>0.598787</td>\n",
       "    </tr>\n",
       "    <tr>\n",
       "      <td>4</td>\n",
       "      <td>326.0</td>\n",
       "      <td>142005.0</td>\n",
       "      <td>ASSISTANT MANAGER @ Dollar Tree Stores</td>\n",
       "      <td>0.567058</td>\n",
       "    </tr>\n",
       "    <tr>\n",
       "      <td>5</td>\n",
       "      <td>326.0</td>\n",
       "      <td>270301.0</td>\n",
       "      <td>Per Diem Home Health Occupational Therapist As...</td>\n",
       "      <td>0.563548</td>\n",
       "    </tr>\n",
       "    <tr>\n",
       "      <td>6</td>\n",
       "      <td>326.0</td>\n",
       "      <td>310057.0</td>\n",
       "      <td>Payroll Clerk @ Accountemps</td>\n",
       "      <td>0.527657</td>\n",
       "    </tr>\n",
       "    <tr>\n",
       "      <td>7</td>\n",
       "      <td>326.0</td>\n",
       "      <td>245889.0</td>\n",
       "      <td>Full-Charge Bookkeeper @ Accountemps</td>\n",
       "      <td>0.527133</td>\n",
       "    </tr>\n",
       "    <tr>\n",
       "      <td>8</td>\n",
       "      <td>326.0</td>\n",
       "      <td>151044.0</td>\n",
       "      <td>Bakery Outlet Stock Clerk- Saginaw @ Lajoy Gro...</td>\n",
       "      <td>0.482844</td>\n",
       "    </tr>\n",
       "    <tr>\n",
       "      <td>9</td>\n",
       "      <td>326.0</td>\n",
       "      <td>146801.0</td>\n",
       "      <td>Project Coordinator @ OfficeTeam</td>\n",
       "      <td>0.482720</td>\n",
       "    </tr>\n",
       "  </tbody>\n",
       "</table>\n",
       "</div>"
      ],
      "text/plain": [
       "   ApplicantID     JobID                                              title  \\\n",
       "0        326.0  294804.0                   ADMINISTRATIVE ASSISTANT @ Cadre   \n",
       "1        326.0  303228.0    Executive Administrative Assistant @ OfficeTeam   \n",
       "2        326.0  270052.0  Caregiver / Home Health Aide / CNA @ Home Inst...   \n",
       "3        326.0  305380.0                   Board Certified Behavior Anaylst   \n",
       "4        326.0  142005.0             ASSISTANT MANAGER @ Dollar Tree Stores   \n",
       "5        326.0  270301.0  Per Diem Home Health Occupational Therapist As...   \n",
       "6        326.0  310057.0                        Payroll Clerk @ Accountemps   \n",
       "7        326.0  245889.0               Full-Charge Bookkeeper @ Accountemps   \n",
       "8        326.0  151044.0  Bakery Outlet Stock Clerk- Saginaw @ Lajoy Gro...   \n",
       "9        326.0  146801.0                   Project Coordinator @ OfficeTeam   \n",
       "\n",
       "      score  \n",
       "0  0.737476  \n",
       "1  0.734409  \n",
       "2  0.712190  \n",
       "3  0.598787  \n",
       "4  0.567058  \n",
       "5  0.563548  \n",
       "6  0.527657  \n",
       "7  0.527133  \n",
       "8  0.482844  \n",
       "9  0.482720  "
      ]
     },
     "execution_count": 19,
     "metadata": {},
     "output_type": "execute_result"
    }
   ],
   "source": [
    "get_recommendation(326, _top, list_scores)"
   ]
  },
  {
   "cell_type": "markdown",
   "metadata": {},
   "source": [
    "---\n",
    "## KNN"
   ]
  },
  {
   "cell_type": "code",
   "execution_count": 20,
   "metadata": {},
   "outputs": [],
   "source": [
    "from sklearn.neighbors import NearestNeighbors"
   ]
  },
  {
   "cell_type": "code",
   "execution_count": 21,
   "metadata": {},
   "outputs": [],
   "source": [
    "number_neighbers = 10\n",
    "model = NearestNeighbors(number_neighbers, p=2)\n",
    "model.fit(tf_idf_job)\n",
    "result = model.kneighbors(tf_idf_user, return_distance=True)"
   ]
  },
  {
   "cell_type": "code",
   "execution_count": 22,
   "metadata": {},
   "outputs": [
    {
     "data": {
      "text/plain": [
       "array([0.72882181, 0.7586961 , 0.89578222, 0.93052857, 0.93429283,\n",
       "       0.97194933, 0.97248841, 1.01701082, 1.01713365])"
      ]
     },
     "execution_count": 22,
     "metadata": {},
     "output_type": "execute_result"
    }
   ],
   "source": [
    "result[0][0][1:]"
   ]
  },
  {
   "cell_type": "code",
   "execution_count": null,
   "metadata": {},
   "outputs": [],
   "source": []
  }
 ],
 "metadata": {
  "kernelspec": {
   "display_name": "Python 3",
   "language": "python",
   "name": "python3"
  },
  "language_info": {
   "codemirror_mode": {
    "name": "ipython",
    "version": 3
   },
   "file_extension": ".py",
   "mimetype": "text/x-python",
   "name": "python",
   "nbconvert_exporter": "python",
   "pygments_lexer": "ipython3",
   "version": "3.7.4"
  }
 },
 "nbformat": 4,
 "nbformat_minor": 2
}
