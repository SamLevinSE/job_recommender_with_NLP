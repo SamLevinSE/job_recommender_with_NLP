{
 "cells": [
  {
   "cell_type": "code",
   "execution_count": 89,
   "metadata": {},
   "outputs": [],
   "source": [
    "import numpy as np\n",
    "import pandas as pd\n",
    "import sklearn\n",
    "import spacy\n",
    "import nltk"
   ]
  },
  {
   "cell_type": "markdown",
   "metadata": {},
   "source": [
    "---"
   ]
  },
  {
   "cell_type": "code",
   "execution_count": 90,
   "metadata": {},
   "outputs": [
    {
     "name": "stdout",
     "output_type": "stream",
     "text": [
      "Unnamed: 0     0\n",
      "ApplicantID    0\n",
      "Corpus         0\n",
      "dtype: int64\n",
      "<class 'pandas.core.frame.DataFrame'>\n",
      "RangeIndex: 15959 entries, 0 to 15958\n",
      "Data columns (total 3 columns):\n",
      "Unnamed: 0     15959 non-null int64\n",
      "ApplicantID    15959 non-null int64\n",
      "Corpus         15959 non-null object\n",
      "dtypes: int64(2), object(1)\n",
      "memory usage: 374.1+ KB\n"
     ]
    }
   ],
   "source": [
    "user = pd.read_csv('user_df.csv')\n",
    "user.Corpus = user.Corpus.astype('str')\n",
    "print(user.isna().sum())\n",
    "user.info()"
   ]
  },
  {
   "cell_type": "code",
   "execution_count": null,
   "metadata": {},
   "outputs": [],
   "source": []
  },
  {
   "cell_type": "code",
   "execution_count": 91,
   "metadata": {},
   "outputs": [
    {
     "name": "stdout",
     "output_type": "stream",
     "text": [
      "Unnamed: 0    0\n",
      "JobID         0\n",
      "Corpus        0\n",
      "dtype: int64\n",
      "<class 'pandas.core.frame.DataFrame'>\n",
      "RangeIndex: 84090 entries, 0 to 84089\n",
      "Data columns (total 3 columns):\n",
      "Unnamed: 0    84090 non-null int64\n",
      "JobID         84090 non-null int64\n",
      "Corpus        84090 non-null object\n",
      "dtypes: int64(2), object(1)\n",
      "memory usage: 1.9+ MB\n"
     ]
    }
   ],
   "source": [
    "job = pd.read_csv('jobs_df.csv')\n",
    "job.Corpus = job.Corpus.astype('str')\n",
    "print(job.isna().sum())\n",
    "job.info()"
   ]
  },
  {
   "cell_type": "markdown",
   "metadata": {},
   "source": [
    "---"
   ]
  },
  {
   "cell_type": "code",
   "execution_count": 92,
   "metadata": {},
   "outputs": [],
   "source": [
    "def select_applicant(user_id, dataframe):\n",
    "    '''\n",
    "    Selects the given users first application\n",
    "    returns: selected applicants row\n",
    "    input: user id\n",
    "    '''\n",
    "    index = np.where(dataframe.ApplicantID == user_id)[0][0]\n",
    "    return dataframe.iloc[index]"
   ]
  },
  {
   "cell_type": "code",
   "execution_count": 93,
   "metadata": {},
   "outputs": [
    {
     "name": "stdout",
     "output_type": "stream",
     "text": [
      "Unnamed: 0                                                   0\n",
      "ApplicantID                                              10000\n",
      "Corpus         cashiers   valets needed  wallypark  newark    \n",
      "Name: 0, dtype: object\n"
     ]
    }
   ],
   "source": [
    "applicant = select_applicant(10000, user)\n",
    "print(applicant)"
   ]
  },
  {
   "cell_type": "markdown",
   "metadata": {},
   "source": [
    "---\n",
    "### TF-IDF\n",
    "( Term Frequency - Inverse Document Frequency )"
   ]
  },
  {
   "cell_type": "code",
   "execution_count": 94,
   "metadata": {},
   "outputs": [],
   "source": [
    "from sklearn.metrics.pairwise import cosine_similarity\n",
    "from sklearn.feature_extraction.text import TfidfVectorizer"
   ]
  },
  {
   "cell_type": "code",
   "execution_count": 95,
   "metadata": {},
   "outputs": [
    {
     "data": {
      "text/plain": [
       "<84090x43007 sparse matrix of type '<class 'numpy.float64'>'\n",
       "\twith 8039613 stored elements in Compressed Sparse Row format>"
      ]
     },
     "execution_count": 95,
     "metadata": {},
     "output_type": "execute_result"
    }
   ],
   "source": [
    "vectorizer = TfidfVectorizer()\n",
    "\n",
    "tf_idf_job = vectorizer.fit_transform(job.Corpus)\n",
    "tf_idf_job"
   ]
  },
  {
   "cell_type": "code",
   "execution_count": 96,
   "metadata": {},
   "outputs": [
    {
     "data": {
      "text/plain": [
       "<15959x43007 sparse matrix of type '<class 'numpy.float64'>'\n",
       "\twith 81239 stored elements in Compressed Sparse Row format>"
      ]
     },
     "execution_count": 96,
     "metadata": {},
     "output_type": "execute_result"
    }
   ],
   "source": [
    "tf_idf_user = vectorizer.transform(user.Corpus)\n",
    "tf_idf_user"
   ]
  },
  {
   "cell_type": "code",
   "execution_count": 98,
   "metadata": {},
   "outputs": [],
   "source": [
    "output = map(lambda x: cosine_similarity(tf_idf_user, x), tf_idf_job)\n",
    "output_list = list(output)"
   ]
  },
  {
   "cell_type": "code",
   "execution_count": null,
   "metadata": {},
   "outputs": [],
   "source": []
  }
 ],
 "metadata": {
  "kernelspec": {
   "display_name": "Python 3",
   "language": "python",
   "name": "python3"
  },
  "language_info": {
   "codemirror_mode": {
    "name": "ipython",
    "version": 3
   },
   "file_extension": ".py",
   "mimetype": "text/x-python",
   "name": "python",
   "nbconvert_exporter": "python",
   "pygments_lexer": "ipython3",
   "version": "3.7.3"
  }
 },
 "nbformat": 4,
 "nbformat_minor": 2
}
