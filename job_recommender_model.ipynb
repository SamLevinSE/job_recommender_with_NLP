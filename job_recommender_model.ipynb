{
 "cells": [
  {
   "cell_type": "code",
   "execution_count": 1,
   "metadata": {},
   "outputs": [],
   "source": [
    "import numpy as np\n",
    "import pandas as pd"
   ]
  },
  {
   "cell_type": "markdown",
   "metadata": {},
   "source": [
    "---"
   ]
  },
  {
   "cell_type": "code",
   "execution_count": 2,
   "metadata": {},
   "outputs": [
    {
     "name": "stdout",
     "output_type": "stream",
     "text": [
      "ApplicantID    0\n",
      "Corpus         0\n",
      "dtype: int64\n",
      "<class 'pandas.core.frame.DataFrame'>\n",
      "RangeIndex: 15959 entries, 0 to 15958\n",
      "Data columns (total 2 columns):\n",
      "ApplicantID    15959 non-null int64\n",
      "Corpus         15959 non-null object\n",
      "dtypes: int64(1), object(1)\n",
      "memory usage: 249.5+ KB\n",
      "None\n"
     ]
    },
    {
     "data": {
      "text/html": [
       "<div>\n",
       "<style scoped>\n",
       "    .dataframe tbody tr th:only-of-type {\n",
       "        vertical-align: middle;\n",
       "    }\n",
       "\n",
       "    .dataframe tbody tr th {\n",
       "        vertical-align: top;\n",
       "    }\n",
       "\n",
       "    .dataframe thead th {\n",
       "        text-align: right;\n",
       "    }\n",
       "</style>\n",
       "<table border=\"1\" class=\"dataframe\">\n",
       "  <thead>\n",
       "    <tr style=\"text-align: right;\">\n",
       "      <th></th>\n",
       "      <th>ApplicantID</th>\n",
       "      <th>Corpus</th>\n",
       "    </tr>\n",
       "  </thead>\n",
       "  <tbody>\n",
       "    <tr>\n",
       "      <td>0</td>\n",
       "      <td>2</td>\n",
       "      <td>volunteer writer for the uloop blog</td>\n",
       "    </tr>\n",
       "    <tr>\n",
       "      <td>1</td>\n",
       "      <td>3</td>\n",
       "      <td>marketing intern server prep cook</td>\n",
       "    </tr>\n",
       "    <tr>\n",
       "      <td>2</td>\n",
       "      <td>6</td>\n",
       "      <td>project assistant</td>\n",
       "    </tr>\n",
       "    <tr>\n",
       "      <td>3</td>\n",
       "      <td>8</td>\n",
       "      <td>deli clerk server  cashier  food prep  order...</td>\n",
       "    </tr>\n",
       "    <tr>\n",
       "      <td>4</td>\n",
       "      <td>11</td>\n",
       "      <td>cashier</td>\n",
       "    </tr>\n",
       "  </tbody>\n",
       "</table>\n",
       "</div>"
      ],
      "text/plain": [
       "   ApplicantID                                             Corpus\n",
       "0            2               volunteer writer for the uloop blog \n",
       "1            3                 marketing intern server prep cook \n",
       "2            6                                 project assistant \n",
       "3            8    deli clerk server  cashier  food prep  order...\n",
       "4           11                                           cashier "
      ]
     },
     "execution_count": 2,
     "metadata": {},
     "output_type": "execute_result"
    }
   ],
   "source": [
    "udf = pd.read_csv('user_df.csv')\n",
    "users_set = set(udf.ApplicantID.values)\n",
    "print(udf.isna().sum())\n",
    "print(udf.info())\n",
    "udf.head()"
   ]
  },
  {
   "cell_type": "code",
   "execution_count": 3,
   "metadata": {},
   "outputs": [
    {
     "name": "stdout",
     "output_type": "stream",
     "text": [
      "JobID     0\n",
      "Corpus    0\n",
      "dtype: int64\n",
      "<class 'pandas.core.frame.DataFrame'>\n",
      "RangeIndex: 84090 entries, 0 to 84089\n",
      "Data columns (total 2 columns):\n",
      "JobID     84090 non-null int64\n",
      "Corpus    84090 non-null object\n",
      "dtypes: int64(1), object(1)\n",
      "memory usage: 1.3+ MB\n",
      "None\n"
     ]
    },
    {
     "data": {
      "text/html": [
       "<div>\n",
       "<style scoped>\n",
       "    .dataframe tbody tr th:only-of-type {\n",
       "        vertical-align: middle;\n",
       "    }\n",
       "\n",
       "    .dataframe tbody tr th {\n",
       "        vertical-align: top;\n",
       "    }\n",
       "\n",
       "    .dataframe thead th {\n",
       "        text-align: right;\n",
       "    }\n",
       "</style>\n",
       "<table border=\"1\" class=\"dataframe\">\n",
       "  <thead>\n",
       "    <tr style=\"text-align: right;\">\n",
       "      <th></th>\n",
       "      <th>JobID</th>\n",
       "      <th>Corpus</th>\n",
       "    </tr>\n",
       "  </thead>\n",
       "  <tbody>\n",
       "    <tr>\n",
       "      <td>0</td>\n",
       "      <td>3</td>\n",
       "      <td>custom servic cincinnati oh bayer healthcar cu...</td>\n",
       "    </tr>\n",
       "    <tr>\n",
       "      <td>1</td>\n",
       "      <td>28</td>\n",
       "      <td>kitchen staff chef san francisco ca pacif catc...</td>\n",
       "    </tr>\n",
       "    <tr>\n",
       "      <td>2</td>\n",
       "      <td>30</td>\n",
       "      <td>bartend olney md dave american bistro bartend ...</td>\n",
       "    </tr>\n",
       "    <tr>\n",
       "      <td>3</td>\n",
       "      <td>33</td>\n",
       "      <td>server oakland ca server oakland part time loc...</td>\n",
       "    </tr>\n",
       "    <tr>\n",
       "      <td>4</td>\n",
       "      <td>35</td>\n",
       "      <td>kitchen staff san francisco ca skool kitchen s...</td>\n",
       "    </tr>\n",
       "  </tbody>\n",
       "</table>\n",
       "</div>"
      ],
      "text/plain": [
       "   JobID                                             Corpus\n",
       "0      3  custom servic cincinnati oh bayer healthcar cu...\n",
       "1     28  kitchen staff chef san francisco ca pacif catc...\n",
       "2     30  bartend olney md dave american bistro bartend ...\n",
       "3     33  server oakland ca server oakland part time loc...\n",
       "4     35  kitchen staff san francisco ca skool kitchen s..."
      ]
     },
     "execution_count": 3,
     "metadata": {},
     "output_type": "execute_result"
    }
   ],
   "source": [
    "jdf = pd.read_csv('jobs_df.csv')\n",
    "jdf.Corpus = jdf.Corpus.astype('str')\n",
    "print(jdf.isna().sum())\n",
    "print(jdf.info())\n",
    "jdf.head()"
   ]
  },
  {
   "cell_type": "code",
   "execution_count": 18,
   "metadata": {},
   "outputs": [
    {
     "data": {
      "text/html": [
       "<div>\n",
       "<style scoped>\n",
       "    .dataframe tbody tr th:only-of-type {\n",
       "        vertical-align: middle;\n",
       "    }\n",
       "\n",
       "    .dataframe tbody tr th {\n",
       "        vertical-align: top;\n",
       "    }\n",
       "\n",
       "    .dataframe thead th {\n",
       "        text-align: right;\n",
       "    }\n",
       "</style>\n",
       "<table border=\"1\" class=\"dataframe\">\n",
       "  <thead>\n",
       "    <tr style=\"text-align: right;\">\n",
       "      <th></th>\n",
       "      <th>JobID</th>\n",
       "      <th>Title</th>\n",
       "    </tr>\n",
       "  </thead>\n",
       "  <tbody>\n",
       "    <tr>\n",
       "      <td>0</td>\n",
       "      <td>111</td>\n",
       "      <td>Server @ Tacolicious</td>\n",
       "    </tr>\n",
       "    <tr>\n",
       "      <td>1</td>\n",
       "      <td>113</td>\n",
       "      <td>Kitchen Staff/Chef @ Claude Lane</td>\n",
       "    </tr>\n",
       "    <tr>\n",
       "      <td>2</td>\n",
       "      <td>117</td>\n",
       "      <td>Bartender @ Machka Restaurants Corp.</td>\n",
       "    </tr>\n",
       "    <tr>\n",
       "      <td>3</td>\n",
       "      <td>121</td>\n",
       "      <td>Server @ Teriyaki House</td>\n",
       "    </tr>\n",
       "    <tr>\n",
       "      <td>4</td>\n",
       "      <td>127</td>\n",
       "      <td>Kitchen Staff/Chef @ Rosa Mexicano - Sunset</td>\n",
       "    </tr>\n",
       "  </tbody>\n",
       "</table>\n",
       "</div>"
      ],
      "text/plain": [
       "   JobID                                        Title\n",
       "0    111                         Server @ Tacolicious\n",
       "1    113             Kitchen Staff/Chef @ Claude Lane\n",
       "2    117         Bartender @ Machka Restaurants Corp.\n",
       "3    121                      Server @ Teriyaki House\n",
       "4    127  Kitchen Staff/Chef @ Rosa Mexicano - Sunset"
      ]
     },
     "execution_count": 18,
     "metadata": {},
     "output_type": "execute_result"
    }
   ],
   "source": [
    "jobs_title = pd.read_csv('jobs_title.csv')\n",
    "jobs_title.head()"
   ]
  },
  {
   "cell_type": "markdown",
   "metadata": {},
   "source": [
    "---\n",
    "### TF-IDF with Cosine Similarity\n",
    "( Term Frequency - Inverse Document Frequency )"
   ]
  },
  {
   "cell_type": "code",
   "execution_count": 4,
   "metadata": {},
   "outputs": [],
   "source": [
    "from sklearn.metrics.pairwise import cosine_similarity\n",
    "from sklearn.feature_extraction.text import TfidfVectorizer"
   ]
  },
  {
   "cell_type": "code",
   "execution_count": 5,
   "metadata": {},
   "outputs": [
    {
     "data": {
      "text/plain": [
       "<84090x43030 sparse matrix of type '<class 'numpy.float64'>'\n",
       "\twith 8101697 stored elements in Compressed Sparse Row format>"
      ]
     },
     "execution_count": 5,
     "metadata": {},
     "output_type": "execute_result"
    }
   ],
   "source": [
    "vectorizer = TfidfVectorizer()\n",
    "\n",
    "tf_idf_job = vectorizer.fit_transform((jdf['Corpus']))\n",
    "tf_idf_job"
   ]
  },
  {
   "cell_type": "code",
   "execution_count": 6,
   "metadata": {},
   "outputs": [
    {
     "data": {
      "text/plain": [
       "<15959x43030 sparse matrix of type '<class 'numpy.float64'>'\n",
       "\twith 81239 stored elements in Compressed Sparse Row format>"
      ]
     },
     "execution_count": 6,
     "metadata": {},
     "output_type": "execute_result"
    }
   ],
   "source": [
    "tf_idf_user = vectorizer.transform(udf['Corpus'])\n",
    "tf_idf_user"
   ]
  },
  {
   "cell_type": "code",
   "execution_count": 7,
   "metadata": {},
   "outputs": [],
   "source": [
    "_cosine = map(lambda x: cosine_similarity(tf_idf_user, x), tf_idf_job)"
   ]
  },
  {
   "cell_type": "code",
   "execution_count": 8,
   "metadata": {},
   "outputs": [],
   "source": [
    "cosine_output = list(_cosine)"
   ]
  },
  {
   "cell_type": "markdown",
   "metadata": {},
   "source": [
    "---"
   ]
  },
  {
   "cell_type": "code",
   "execution_count": 31,
   "metadata": {},
   "outputs": [],
   "source": [
    "def disply_applicant(user_id, dataframe):\n",
    "    '''\n",
    "    Selects the given users first application\n",
    "    input: user id\n",
    "    returns: selected applicants row\n",
    "    '''\n",
    "    if user_id in users_set:\n",
    "        index = np.where(dataframe.ApplicantID == user_id)[0][0]\n",
    "        return dataframe.iloc[[index]]\n",
    "    return 'User id is not in the DB.'"
   ]
  },
  {
   "cell_type": "markdown",
   "metadata": {},
   "source": [
    "---"
   ]
  },
  {
   "cell_type": "code",
   "execution_count": 32,
   "metadata": {},
   "outputs": [],
   "source": [
    "def _recommended_jobs(top, user):\n",
    "    '''\n",
    "    Returns all the recommended jobs for the given user.\n",
    "    input: top => nr of top recommended jobs | user => user id\n",
    "    return: a dataframe with two columns (ApplicantID, JobID)\n",
    "    '''\n",
    "    result = pd.DataFrame()\n",
    "\n",
    "    list_range = range(len(cosine_output))\n",
    "    _top = sorted(list_range, key=lambda i: cosine_output[i].all(), reverse=True)[:top]\n",
    "    \n",
    "    for index, item in enumerate(_top):\n",
    "        result.at[index, 'ApplicantID'] = user\n",
    "        result.at[index, 'JobID'] = jdf['JobID'][item]\n",
    "    \n",
    "    return result"
   ]
  },
  {
   "cell_type": "markdown",
   "metadata": {},
   "source": [
    "---"
   ]
  },
  {
   "cell_type": "code",
   "execution_count": 33,
   "metadata": {},
   "outputs": [],
   "source": [
    "def _select_job(recommended_jobs):\n",
    "    '''\n",
    "    Returns the description (Corpus) for the given list.\n",
    "    input: recommended jobs dataframe\n",
    "    return: a dataframe with two columns (JobID, Corpus)\n",
    "    '''\n",
    "    result = pd.DataFrame()\n",
    "    \n",
    "    for i, recomend in enumerate(recommended_jobs['JobID']):\n",
    "        index = np.where(jdf.JobID == recomend)[0][0]\n",
    "        result.at[i, 'JobID'] = recomend\n",
    "        result.at[i, 'Corpus'] = jdf['Corpus'][index]\n",
    "    \n",
    "    return result"
   ]
  },
  {
   "cell_type": "markdown",
   "metadata": {},
   "source": [
    "---"
   ]
  },
  {
   "cell_type": "code",
   "execution_count": 34,
   "metadata": {},
   "outputs": [
    {
     "data": {
      "text/html": [
       "<div>\n",
       "<style scoped>\n",
       "    .dataframe tbody tr th:only-of-type {\n",
       "        vertical-align: middle;\n",
       "    }\n",
       "\n",
       "    .dataframe tbody tr th {\n",
       "        vertical-align: top;\n",
       "    }\n",
       "\n",
       "    .dataframe thead th {\n",
       "        text-align: right;\n",
       "    }\n",
       "</style>\n",
       "<table border=\"1\" class=\"dataframe\">\n",
       "  <thead>\n",
       "    <tr style=\"text-align: right;\">\n",
       "      <th></th>\n",
       "      <th>ApplicantID</th>\n",
       "      <th>Corpus</th>\n",
       "    </tr>\n",
       "  </thead>\n",
       "  <tbody>\n",
       "    <tr>\n",
       "      <td>186</td>\n",
       "      <td>326</td>\n",
       "      <td>java developer</td>\n",
       "    </tr>\n",
       "  </tbody>\n",
       "</table>\n",
       "</div>"
      ],
      "text/plain": [
       "     ApplicantID             Corpus\n",
       "186          326    java developer "
      ]
     },
     "execution_count": 34,
     "metadata": {},
     "output_type": "execute_result"
    }
   ],
   "source": [
    "disply_applicant(326, udf)"
   ]
  },
  {
   "cell_type": "code",
   "execution_count": 35,
   "metadata": {
    "scrolled": true
   },
   "outputs": [
    {
     "data": {
      "text/html": [
       "<div>\n",
       "<style scoped>\n",
       "    .dataframe tbody tr th:only-of-type {\n",
       "        vertical-align: middle;\n",
       "    }\n",
       "\n",
       "    .dataframe tbody tr th {\n",
       "        vertical-align: top;\n",
       "    }\n",
       "\n",
       "    .dataframe thead th {\n",
       "        text-align: right;\n",
       "    }\n",
       "</style>\n",
       "<table border=\"1\" class=\"dataframe\">\n",
       "  <thead>\n",
       "    <tr style=\"text-align: right;\">\n",
       "      <th></th>\n",
       "      <th>ApplicantID</th>\n",
       "      <th>JobID</th>\n",
       "    </tr>\n",
       "  </thead>\n",
       "  <tbody>\n",
       "    <tr>\n",
       "      <td>0</td>\n",
       "      <td>326.0</td>\n",
       "      <td>3.0</td>\n",
       "    </tr>\n",
       "    <tr>\n",
       "      <td>1</td>\n",
       "      <td>326.0</td>\n",
       "      <td>28.0</td>\n",
       "    </tr>\n",
       "    <tr>\n",
       "      <td>2</td>\n",
       "      <td>326.0</td>\n",
       "      <td>30.0</td>\n",
       "    </tr>\n",
       "    <tr>\n",
       "      <td>3</td>\n",
       "      <td>326.0</td>\n",
       "      <td>33.0</td>\n",
       "    </tr>\n",
       "    <tr>\n",
       "      <td>4</td>\n",
       "      <td>326.0</td>\n",
       "      <td>35.0</td>\n",
       "    </tr>\n",
       "    <tr>\n",
       "      <td>5</td>\n",
       "      <td>326.0</td>\n",
       "      <td>45.0</td>\n",
       "    </tr>\n",
       "    <tr>\n",
       "      <td>6</td>\n",
       "      <td>326.0</td>\n",
       "      <td>47.0</td>\n",
       "    </tr>\n",
       "    <tr>\n",
       "      <td>7</td>\n",
       "      <td>326.0</td>\n",
       "      <td>49.0</td>\n",
       "    </tr>\n",
       "    <tr>\n",
       "      <td>8</td>\n",
       "      <td>326.0</td>\n",
       "      <td>61.0</td>\n",
       "    </tr>\n",
       "    <tr>\n",
       "      <td>9</td>\n",
       "      <td>326.0</td>\n",
       "      <td>64.0</td>\n",
       "    </tr>\n",
       "  </tbody>\n",
       "</table>\n",
       "</div>"
      ],
      "text/plain": [
       "   ApplicantID  JobID\n",
       "0        326.0    3.0\n",
       "1        326.0   28.0\n",
       "2        326.0   30.0\n",
       "3        326.0   33.0\n",
       "4        326.0   35.0\n",
       "5        326.0   45.0\n",
       "6        326.0   47.0\n",
       "7        326.0   49.0\n",
       "8        326.0   61.0\n",
       "9        326.0   64.0"
      ]
     },
     "execution_count": 35,
     "metadata": {},
     "output_type": "execute_result"
    }
   ],
   "source": [
    "_recommended = _recommended_jobs(10, 326)\n",
    "_recommended"
   ]
  },
  {
   "cell_type": "code",
   "execution_count": 36,
   "metadata": {},
   "outputs": [
    {
     "data": {
      "text/html": [
       "<div>\n",
       "<style scoped>\n",
       "    .dataframe tbody tr th:only-of-type {\n",
       "        vertical-align: middle;\n",
       "    }\n",
       "\n",
       "    .dataframe tbody tr th {\n",
       "        vertical-align: top;\n",
       "    }\n",
       "\n",
       "    .dataframe thead th {\n",
       "        text-align: right;\n",
       "    }\n",
       "</style>\n",
       "<table border=\"1\" class=\"dataframe\">\n",
       "  <thead>\n",
       "    <tr style=\"text-align: right;\">\n",
       "      <th></th>\n",
       "      <th>JobID</th>\n",
       "      <th>Corpus</th>\n",
       "    </tr>\n",
       "  </thead>\n",
       "  <tbody>\n",
       "    <tr>\n",
       "      <td>0</td>\n",
       "      <td>3.0</td>\n",
       "      <td>custom servic cincinnati oh bayer healthcar cu...</td>\n",
       "    </tr>\n",
       "    <tr>\n",
       "      <td>1</td>\n",
       "      <td>28.0</td>\n",
       "      <td>kitchen staff chef san francisco ca pacif catc...</td>\n",
       "    </tr>\n",
       "    <tr>\n",
       "      <td>2</td>\n",
       "      <td>30.0</td>\n",
       "      <td>bartend olney md dave american bistro bartend ...</td>\n",
       "    </tr>\n",
       "    <tr>\n",
       "      <td>3</td>\n",
       "      <td>33.0</td>\n",
       "      <td>server oakland ca server oakland part time loc...</td>\n",
       "    </tr>\n",
       "    <tr>\n",
       "      <td>4</td>\n",
       "      <td>35.0</td>\n",
       "      <td>kitchen staff san francisco ca skool kitchen s...</td>\n",
       "    </tr>\n",
       "    <tr>\n",
       "      <td>5</td>\n",
       "      <td>45.0</td>\n",
       "      <td>server san francisco ca liberti bar restaur se...</td>\n",
       "    </tr>\n",
       "    <tr>\n",
       "      <td>6</td>\n",
       "      <td>47.0</td>\n",
       "      <td>sushi chef palo alto ca yoshi cater sushi chef...</td>\n",
       "    </tr>\n",
       "    <tr>\n",
       "      <td>7</td>\n",
       "      <td>49.0</td>\n",
       "      <td>server san francisco ca sprig server sprig san...</td>\n",
       "    </tr>\n",
       "    <tr>\n",
       "      <td>8</td>\n",
       "      <td>61.0</td>\n",
       "      <td>server foster citi ca kenta ramen server kenta...</td>\n",
       "    </tr>\n",
       "    <tr>\n",
       "      <td>9</td>\n",
       "      <td>64.0</td>\n",
       "      <td>server san francisco ca fior italia server fio...</td>\n",
       "    </tr>\n",
       "  </tbody>\n",
       "</table>\n",
       "</div>"
      ],
      "text/plain": [
       "   JobID                                             Corpus\n",
       "0    3.0  custom servic cincinnati oh bayer healthcar cu...\n",
       "1   28.0  kitchen staff chef san francisco ca pacif catc...\n",
       "2   30.0  bartend olney md dave american bistro bartend ...\n",
       "3   33.0  server oakland ca server oakland part time loc...\n",
       "4   35.0  kitchen staff san francisco ca skool kitchen s...\n",
       "5   45.0  server san francisco ca liberti bar restaur se...\n",
       "6   47.0  sushi chef palo alto ca yoshi cater sushi chef...\n",
       "7   49.0  server san francisco ca sprig server sprig san...\n",
       "8   61.0  server foster citi ca kenta ramen server kenta...\n",
       "9   64.0  server san francisco ca fior italia server fio..."
      ]
     },
     "execution_count": 36,
     "metadata": {},
     "output_type": "execute_result"
    }
   ],
   "source": [
    "_select_job(_recommended)"
   ]
  },
  {
   "cell_type": "markdown",
   "metadata": {},
   "source": [
    "---"
   ]
  },
  {
   "cell_type": "code",
   "execution_count": 37,
   "metadata": {},
   "outputs": [],
   "source": [
    "# we could make it more user friendly by adding some more info about what user applied for and what we recommend...\n",
    "def recommender_output(top, user):\n",
    "    '''\n",
    "    Returns the final output for the recommender system\n",
    "    input: top => nr of top recommended jobs | user => user id\n",
    "    return: a dataframe with three columns (ApplicantID, JobID, Corpus)\n",
    "    '''\n",
    "    __recommended = _recommended_jobs(top, user)\n",
    "    __selected = _select_job(__recommended)\n",
    "    \n",
    "    return __recommended.merge(__selected, on='JobID')"
   ]
  },
  {
   "cell_type": "code",
   "execution_count": 39,
   "metadata": {},
   "outputs": [
    {
     "data": {
      "text/html": [
       "<div>\n",
       "<style scoped>\n",
       "    .dataframe tbody tr th:only-of-type {\n",
       "        vertical-align: middle;\n",
       "    }\n",
       "\n",
       "    .dataframe tbody tr th {\n",
       "        vertical-align: top;\n",
       "    }\n",
       "\n",
       "    .dataframe thead th {\n",
       "        text-align: right;\n",
       "    }\n",
       "</style>\n",
       "<table border=\"1\" class=\"dataframe\">\n",
       "  <thead>\n",
       "    <tr style=\"text-align: right;\">\n",
       "      <th></th>\n",
       "      <th>ApplicantID</th>\n",
       "      <th>JobID</th>\n",
       "      <th>Corpus</th>\n",
       "    </tr>\n",
       "  </thead>\n",
       "  <tbody>\n",
       "    <tr>\n",
       "      <td>0</td>\n",
       "      <td>326.0</td>\n",
       "      <td>3.0</td>\n",
       "      <td>custom servic cincinnati oh bayer healthcar cu...</td>\n",
       "    </tr>\n",
       "    <tr>\n",
       "      <td>1</td>\n",
       "      <td>326.0</td>\n",
       "      <td>28.0</td>\n",
       "      <td>kitchen staff chef san francisco ca pacif catc...</td>\n",
       "    </tr>\n",
       "    <tr>\n",
       "      <td>2</td>\n",
       "      <td>326.0</td>\n",
       "      <td>30.0</td>\n",
       "      <td>bartend olney md dave american bistro bartend ...</td>\n",
       "    </tr>\n",
       "    <tr>\n",
       "      <td>3</td>\n",
       "      <td>326.0</td>\n",
       "      <td>33.0</td>\n",
       "      <td>server oakland ca server oakland part time loc...</td>\n",
       "    </tr>\n",
       "    <tr>\n",
       "      <td>4</td>\n",
       "      <td>326.0</td>\n",
       "      <td>35.0</td>\n",
       "      <td>kitchen staff san francisco ca skool kitchen s...</td>\n",
       "    </tr>\n",
       "  </tbody>\n",
       "</table>\n",
       "</div>"
      ],
      "text/plain": [
       "   ApplicantID  JobID                                             Corpus\n",
       "0        326.0    3.0  custom servic cincinnati oh bayer healthcar cu...\n",
       "1        326.0   28.0  kitchen staff chef san francisco ca pacif catc...\n",
       "2        326.0   30.0  bartend olney md dave american bistro bartend ...\n",
       "3        326.0   33.0  server oakland ca server oakland part time loc...\n",
       "4        326.0   35.0  kitchen staff san francisco ca skool kitchen s..."
      ]
     },
     "execution_count": 39,
     "metadata": {},
     "output_type": "execute_result"
    }
   ],
   "source": [
    "recommender_output(5, 326)"
   ]
  },
  {
   "cell_type": "markdown",
   "metadata": {},
   "source": [
    "---\n",
    "## KNN"
   ]
  },
  {
   "cell_type": "code",
   "execution_count": 9,
   "metadata": {},
   "outputs": [],
   "source": [
    "from sklearn.neighbors import NearestNeighbors"
   ]
  },
  {
   "cell_type": "code",
   "execution_count": 12,
   "metadata": {},
   "outputs": [],
   "source": [
    "number_neighbers = 10\n",
    "model = NearestNeighbors(number_neighbers, p=2)\n",
    "model.fit(tf_idf_job)\n",
    "result = model.kneighbors(tf_idf_user, return_distance=True)"
   ]
  },
  {
   "cell_type": "code",
   "execution_count": 13,
   "metadata": {},
   "outputs": [
    {
     "data": {
      "text/plain": [
       "array([1.15783867, 1.2027317 , 1.2206752 , 1.24204879, 1.24204879,\n",
       "       1.24204879, 1.24230916, 1.24350448, 1.24371167])"
      ]
     },
     "execution_count": 13,
     "metadata": {},
     "output_type": "execute_result"
    }
   ],
   "source": [
    "result[0][0][1:]"
   ]
  },
  {
   "cell_type": "code",
   "execution_count": 28,
   "metadata": {},
   "outputs": [],
   "source": [
    "def get_recommendation(user, recommended_jobs, scores):\n",
    "    _result = pd.DataFrame()\n",
    "\n",
    "    for index, recomend in enumerate(recommended_jobs):\n",
    "        _result.at[index, 'ApplicantID'] = user\n",
    "        _result.at[index, 'JobID'] = jobs_title['JobID'][recomend]\n",
    "        _result.at[index, 'title'] = jobs_title['Title'][recomend]\n",
    "        _result.at[index, 'score'] =  scores[index]\n",
    "    \n",
    "    return _result"
   ]
  },
  {
   "cell_type": "code",
   "execution_count": 29,
   "metadata": {},
   "outputs": [
    {
     "data": {
      "text/html": [
       "<div>\n",
       "<style scoped>\n",
       "    .dataframe tbody tr th:only-of-type {\n",
       "        vertical-align: middle;\n",
       "    }\n",
       "\n",
       "    .dataframe tbody tr th {\n",
       "        vertical-align: top;\n",
       "    }\n",
       "\n",
       "    .dataframe thead th {\n",
       "        text-align: right;\n",
       "    }\n",
       "</style>\n",
       "<table border=\"1\" class=\"dataframe\">\n",
       "  <thead>\n",
       "    <tr style=\"text-align: right;\">\n",
       "      <th></th>\n",
       "      <th>ApplicantID</th>\n",
       "      <th>JobID</th>\n",
       "      <th>title</th>\n",
       "      <th>score</th>\n",
       "    </tr>\n",
       "  </thead>\n",
       "  <tbody>\n",
       "    <tr>\n",
       "      <td>0</td>\n",
       "      <td>326.0</td>\n",
       "      <td>261253.0</td>\n",
       "      <td>Fund Accountants Needed in SF @ Accountemps</td>\n",
       "      <td>1.157839</td>\n",
       "    </tr>\n",
       "    <tr>\n",
       "      <td>1</td>\n",
       "      <td>326.0</td>\n",
       "      <td>309520.0</td>\n",
       "      <td>Custom Framing Specialist</td>\n",
       "      <td>1.202732</td>\n",
       "    </tr>\n",
       "    <tr>\n",
       "      <td>2</td>\n",
       "      <td>326.0</td>\n",
       "      <td>273788.0</td>\n",
       "      <td>Cashiers, Deli Clerks, Freight Stockers and Mo...</td>\n",
       "      <td>1.220675</td>\n",
       "    </tr>\n",
       "    <tr>\n",
       "      <td>3</td>\n",
       "      <td>326.0</td>\n",
       "      <td>277453.0</td>\n",
       "      <td>Program Coordinator 017-15 @ Mothers Against D...</td>\n",
       "      <td>1.242049</td>\n",
       "    </tr>\n",
       "    <tr>\n",
       "      <td>4</td>\n",
       "      <td>326.0</td>\n",
       "      <td>142012.0</td>\n",
       "      <td>ASSISTANT MANAGER @ Dollar Tree Stores</td>\n",
       "      <td>1.242049</td>\n",
       "    </tr>\n",
       "    <tr>\n",
       "      <td>5</td>\n",
       "      <td>326.0</td>\n",
       "      <td>245332.0</td>\n",
       "      <td>Outgoing Receptionist Needed Immediately @ Off...</td>\n",
       "      <td>1.242049</td>\n",
       "    </tr>\n",
       "    <tr>\n",
       "      <td>6</td>\n",
       "      <td>326.0</td>\n",
       "      <td>263280.0</td>\n",
       "      <td>Health and Wellness Nurse Practitioner @ Healt...</td>\n",
       "      <td>1.242309</td>\n",
       "    </tr>\n",
       "    <tr>\n",
       "      <td>7</td>\n",
       "      <td>326.0</td>\n",
       "      <td>283116.0</td>\n",
       "      <td>Recent Graduate Junior Accountant @ Accountemps</td>\n",
       "      <td>1.243504</td>\n",
       "    </tr>\n",
       "    <tr>\n",
       "      <td>8</td>\n",
       "      <td>326.0</td>\n",
       "      <td>313889.0</td>\n",
       "      <td>Customer Service Representative Needed! @ Offi...</td>\n",
       "      <td>1.243712</td>\n",
       "    </tr>\n",
       "  </tbody>\n",
       "</table>\n",
       "</div>"
      ],
      "text/plain": [
       "   ApplicantID     JobID                                              title  \\\n",
       "0        326.0  261253.0        Fund Accountants Needed in SF @ Accountemps   \n",
       "1        326.0  309520.0                          Custom Framing Specialist   \n",
       "2        326.0  273788.0  Cashiers, Deli Clerks, Freight Stockers and Mo...   \n",
       "3        326.0  277453.0  Program Coordinator 017-15 @ Mothers Against D...   \n",
       "4        326.0  142012.0             ASSISTANT MANAGER @ Dollar Tree Stores   \n",
       "5        326.0  245332.0  Outgoing Receptionist Needed Immediately @ Off...   \n",
       "6        326.0  263280.0  Health and Wellness Nurse Practitioner @ Healt...   \n",
       "7        326.0  283116.0    Recent Graduate Junior Accountant @ Accountemps   \n",
       "8        326.0  313889.0  Customer Service Representative Needed! @ Offi...   \n",
       "\n",
       "      score  \n",
       "0  1.157839  \n",
       "1  1.202732  \n",
       "2  1.220675  \n",
       "3  1.242049  \n",
       "4  1.242049  \n",
       "5  1.242049  \n",
       "6  1.242309  \n",
       "7  1.243504  \n",
       "8  1.243712  "
      ]
     },
     "execution_count": 29,
     "metadata": {},
     "output_type": "execute_result"
    }
   ],
   "source": [
    "get_recommendation(326, result[1][0][1:], result[0][0][1:])"
   ]
  },
  {
   "cell_type": "code",
   "execution_count": null,
   "metadata": {},
   "outputs": [],
   "source": []
  }
 ],
 "metadata": {
  "kernelspec": {
   "display_name": "Python 3",
   "language": "python",
   "name": "python3"
  },
  "language_info": {
   "codemirror_mode": {
    "name": "ipython",
    "version": 3
   },
   "file_extension": ".py",
   "mimetype": "text/x-python",
   "name": "python",
   "nbconvert_exporter": "python",
   "pygments_lexer": "ipython3",
   "version": "3.7.4"
  }
 },
 "nbformat": 4,
 "nbformat_minor": 2
}
